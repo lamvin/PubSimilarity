{
 "cells": [
  {
   "cell_type": "code",
   "execution_count": 1,
   "metadata": {
    "collapsed": true
   },
   "outputs": [],
   "source": [
    "import pandas as pd\n",
    "from tables import *\n",
    "import csv\n",
    "import numpy as np\n",
    "import pickle\n",
    "import time"
   ]
  },
  {
   "cell_type": "code",
   "execution_count": 2,
   "metadata": {
    "collapsed": true
   },
   "outputs": [],
   "source": [
    "path = '/home/User1/data/self_citations/'"
   ]
  },
  {
   "cell_type": "code",
   "execution_count": 3,
   "metadata": {},
   "outputs": [
    {
     "name": "stderr",
     "output_type": "stream",
     "text": [
      "/home/User1/anaconda3/lib/python3.6/site-packages/IPython/core/interactiveshell.py:2698: DtypeWarning: Columns (1) have mixed types. Specify dtype option on import or set low_memory=False.\n",
      "  interactivity=interactivity, compiler=compiler, result=result)\n"
     ]
    }
   ],
   "source": [
    "disciplines = pd.read_csv(path+'liste_discipline.txt',encoding='latin_1',sep='\\t')\n",
    "articles = pd.read_csv(path+'article.txt',sep='\\t')"
   ]
  },
  {
   "cell_type": "code",
   "execution_count": 4,
   "metadata": {
    "collapsed": true
   },
   "outputs": [],
   "source": [
    "h5file = open_file(path + 'self_citations.h5', mode=\"r\", title=\"Self Citations\")\n",
    "table = h5file.root.counts.self_cits"
   ]
  },
  {
   "cell_type": "code",
   "execution_count": 5,
   "metadata": {
    "collapsed": true
   },
   "outputs": [],
   "source": [
    "clusterID = pd.read_csv(path+'clusterID.txt',sep='\\t')\n",
    "clusterID = clusterID.merge(articles[['ID_Art','ItemID','Annee_Bibliographique','Code_Revue']],left_on='UT',right_on='ItemID')\n",
    "clusterID = clusterID.drop(['UT','ItemID'],axis=1)"
   ]
  },
  {
   "cell_type": "code",
   "execution_count": 6,
   "metadata": {
    "collapsed": true
   },
   "outputs": [],
   "source": [
    "liste_revue = pd.read_csv(path+'Liste_Revue.txt',sep='\\t')"
   ]
  },
  {
   "cell_type": "code",
   "execution_count": 7,
   "metadata": {
    "collapsed": true
   },
   "outputs": [],
   "source": [
    "liste_revue = liste_revue.merge(disciplines,on='Code_Discipline')"
   ]
  },
  {
   "cell_type": "code",
   "execution_count": 8,
   "metadata": {
    "collapsed": true
   },
   "outputs": [],
   "source": [
    "clusterID = clusterID.merge(liste_revue[['Code_Revue','EDiscipline']],on='Code_Revue')"
   ]
  },
  {
   "cell_type": "code",
   "execution_count": 10,
   "metadata": {},
   "outputs": [
    {
     "data": {
      "text/html": [
       "<div>\n",
       "<style scoped>\n",
       "    .dataframe tbody tr th:only-of-type {\n",
       "        vertical-align: middle;\n",
       "    }\n",
       "\n",
       "    .dataframe tbody tr th {\n",
       "        vertical-align: top;\n",
       "    }\n",
       "\n",
       "    .dataframe thead th {\n",
       "        text-align: right;\n",
       "    }\n",
       "</style>\n",
       "<table border=\"1\" class=\"dataframe\">\n",
       "  <thead>\n",
       "    <tr style=\"text-align: right;\">\n",
       "      <th></th>\n",
       "      <th>Cluster_ID</th>\n",
       "      <th>ID_Art</th>\n",
       "      <th>Annee_Bibliographique</th>\n",
       "      <th>Code_Revue</th>\n",
       "      <th>EDiscipline</th>\n",
       "    </tr>\n",
       "  </thead>\n",
       "  <tbody>\n",
       "    <tr>\n",
       "      <th>0</th>\n",
       "      <td>44</td>\n",
       "      <td>31346952</td>\n",
       "      <td>2008</td>\n",
       "      <td>3306</td>\n",
       "      <td>Clinical Medicine</td>\n",
       "    </tr>\n",
       "    <tr>\n",
       "      <th>1</th>\n",
       "      <td>41700452</td>\n",
       "      <td>45961858</td>\n",
       "      <td>2010</td>\n",
       "      <td>3306</td>\n",
       "      <td>Clinical Medicine</td>\n",
       "    </tr>\n",
       "    <tr>\n",
       "      <th>2</th>\n",
       "      <td>43807191</td>\n",
       "      <td>30069198</td>\n",
       "      <td>2007</td>\n",
       "      <td>3306</td>\n",
       "      <td>Clinical Medicine</td>\n",
       "    </tr>\n",
       "    <tr>\n",
       "      <th>3</th>\n",
       "      <td>39522379</td>\n",
       "      <td>30069198</td>\n",
       "      <td>2007</td>\n",
       "      <td>3306</td>\n",
       "      <td>Clinical Medicine</td>\n",
       "    </tr>\n",
       "    <tr>\n",
       "      <th>4</th>\n",
       "      <td>48792209</td>\n",
       "      <td>30069198</td>\n",
       "      <td>2007</td>\n",
       "      <td>3306</td>\n",
       "      <td>Clinical Medicine</td>\n",
       "    </tr>\n",
       "  </tbody>\n",
       "</table>\n",
       "</div>"
      ],
      "text/plain": [
       "   Cluster_ID    ID_Art  Annee_Bibliographique  Code_Revue        EDiscipline\n",
       "0          44  31346952                   2008        3306  Clinical Medicine\n",
       "1    41700452  45961858                   2010        3306  Clinical Medicine\n",
       "2    43807191  30069198                   2007        3306  Clinical Medicine\n",
       "3    39522379  30069198                   2007        3306  Clinical Medicine\n",
       "4    48792209  30069198                   2007        3306  Clinical Medicine"
      ]
     },
     "execution_count": 10,
     "metadata": {},
     "output_type": "execute_result"
    }
   ],
   "source": [
    "clusterID.head(5)"
   ]
  },
  {
   "cell_type": "code",
   "execution_count": 16,
   "metadata": {},
   "outputs": [],
   "source": [
    "authors_info = clusterID.groupby(['Cluster_ID']).agg({'EDiscipline': 'max', 'Annee_Bibliographique': 'min'})"
   ]
  },
  {
   "cell_type": "code",
   "execution_count": 17,
   "metadata": {
    "collapsed": true
   },
   "outputs": [],
   "source": [
    "with open(path+'authors_info.csv','w') as f:\n",
    "    authors_info.to_csv(f,sep='\\t')"
   ]
  },
  {
   "cell_type": "code",
   "execution_count": 22,
   "metadata": {},
   "outputs": [
    {
     "data": {
      "text/html": [
       "<div>\n",
       "<style scoped>\n",
       "    .dataframe tbody tr th:only-of-type {\n",
       "        vertical-align: middle;\n",
       "    }\n",
       "\n",
       "    .dataframe tbody tr th {\n",
       "        vertical-align: top;\n",
       "    }\n",
       "\n",
       "    .dataframe thead th {\n",
       "        text-align: right;\n",
       "    }\n",
       "</style>\n",
       "<table border=\"1\" class=\"dataframe\">\n",
       "  <thead>\n",
       "    <tr style=\"text-align: right;\">\n",
       "      <th></th>\n",
       "      <th>EDiscipline</th>\n",
       "      <th>Annee_Bibliographique</th>\n",
       "    </tr>\n",
       "    <tr>\n",
       "      <th>Cluster_ID</th>\n",
       "      <th></th>\n",
       "      <th></th>\n",
       "    </tr>\n",
       "  </thead>\n",
       "  <tbody>\n",
       "    <tr>\n",
       "      <th>1</th>\n",
       "      <td>Humanities</td>\n",
       "      <td>2013</td>\n",
       "    </tr>\n",
       "    <tr>\n",
       "      <th>2</th>\n",
       "      <td>Humanities</td>\n",
       "      <td>1999</td>\n",
       "    </tr>\n",
       "    <tr>\n",
       "      <th>3</th>\n",
       "      <td>Chemistry</td>\n",
       "      <td>2013</td>\n",
       "    </tr>\n",
       "    <tr>\n",
       "      <th>4</th>\n",
       "      <td>Chemistry</td>\n",
       "      <td>2015</td>\n",
       "    </tr>\n",
       "    <tr>\n",
       "      <th>5</th>\n",
       "      <td>Humanities</td>\n",
       "      <td>2017</td>\n",
       "    </tr>\n",
       "  </tbody>\n",
       "</table>\n",
       "</div>"
      ],
      "text/plain": [
       "           EDiscipline  Annee_Bibliographique\n",
       "Cluster_ID                                   \n",
       "1           Humanities                   2013\n",
       "2           Humanities                   1999\n",
       "3            Chemistry                   2013\n",
       "4            Chemistry                   2015\n",
       "5           Humanities                   2017"
      ]
     },
     "execution_count": 22,
     "metadata": {},
     "output_type": "execute_result"
    }
   ],
   "source": [
    "authors_info.head(5)"
   ]
  },
  {
   "cell_type": "code",
   "execution_count": 53,
   "metadata": {},
   "outputs": [
    {
     "data": {
      "text/plain": [
       "EDiscipline              Health\n",
       "Annee_Bibliographique      1986\n",
       "Name: 125, dtype: object"
      ]
     },
     "execution_count": 53,
     "metadata": {},
     "output_type": "execute_result"
    }
   ],
   "source": [
    "authors_info.loc[125,]"
   ]
  },
  {
   "cell_type": "code",
   "execution_count": 25,
   "metadata": {},
   "outputs": [
    {
     "data": {
      "text/plain": [
       "Index(['EDiscipline', 'Annee_Bibliographique'], dtype='object')"
      ]
     },
     "execution_count": 25,
     "metadata": {},
     "output_type": "execute_result"
    }
   ],
   "source": [
    "authors_info.columns"
   ]
  },
  {
   "cell_type": "code",
   "execution_count": 52,
   "metadata": {},
   "outputs": [
    {
     "data": {
      "text/html": [
       "<div>\n",
       "<style scoped>\n",
       "    .dataframe tbody tr th:only-of-type {\n",
       "        vertical-align: middle;\n",
       "    }\n",
       "\n",
       "    .dataframe tbody tr th {\n",
       "        vertical-align: top;\n",
       "    }\n",
       "\n",
       "    .dataframe thead th {\n",
       "        text-align: right;\n",
       "    }\n",
       "</style>\n",
       "<table border=\"1\" class=\"dataframe\">\n",
       "  <thead>\n",
       "    <tr style=\"text-align: right;\">\n",
       "      <th></th>\n",
       "      <th>Cluster_ID</th>\n",
       "      <th>ID_Art</th>\n",
       "      <th>Annee_Bibliographique</th>\n",
       "      <th>Code_Revue</th>\n",
       "      <th>EDiscipline</th>\n",
       "    </tr>\n",
       "  </thead>\n",
       "  <tbody>\n",
       "    <tr>\n",
       "      <th>18663621</th>\n",
       "      <td>125</td>\n",
       "      <td>6760518</td>\n",
       "      <td>1987</td>\n",
       "      <td>1211</td>\n",
       "      <td>Biomedical Research</td>\n",
       "    </tr>\n",
       "    <tr>\n",
       "      <th>92742537</th>\n",
       "      <td>125</td>\n",
       "      <td>5570337</td>\n",
       "      <td>1986</td>\n",
       "      <td>883</td>\n",
       "      <td>Health</td>\n",
       "    </tr>\n",
       "    <tr>\n",
       "      <th>143477556</th>\n",
       "      <td>125</td>\n",
       "      <td>6505375</td>\n",
       "      <td>1987</td>\n",
       "      <td>828</td>\n",
       "      <td>Clinical Medicine</td>\n",
       "    </tr>\n",
       "  </tbody>\n",
       "</table>\n",
       "</div>"
      ],
      "text/plain": [
       "           Cluster_ID   ID_Art  Annee_Bibliographique  Code_Revue  \\\n",
       "18663621          125  6760518                   1987        1211   \n",
       "92742537          125  5570337                   1986         883   \n",
       "143477556         125  6505375                   1987         828   \n",
       "\n",
       "                   EDiscipline  \n",
       "18663621   Biomedical Research  \n",
       "92742537                Health  \n",
       "143477556    Clinical Medicine  "
      ]
     },
     "execution_count": 52,
     "metadata": {},
     "output_type": "execute_result"
    }
   ],
   "source": [
    "clusterID.loc[clusterID['Cluster_ID'] == 125,]"
   ]
  },
  {
   "cell_type": "code",
   "execution_count": null,
   "metadata": {
    "collapsed": true
   },
   "outputs": [],
   "source": []
  },
  {
   "cell_type": "code",
   "execution_count": 12,
   "metadata": {},
   "outputs": [
    {
     "data": {
      "text/html": [
       "<div>\n",
       "<style scoped>\n",
       "    .dataframe tbody tr th:only-of-type {\n",
       "        vertical-align: middle;\n",
       "    }\n",
       "\n",
       "    .dataframe tbody tr th {\n",
       "        vertical-align: top;\n",
       "    }\n",
       "\n",
       "    .dataframe thead th {\n",
       "        text-align: right;\n",
       "    }\n",
       "</style>\n",
       "<table border=\"1\" class=\"dataframe\">\n",
       "  <thead>\n",
       "    <tr style=\"text-align: right;\">\n",
       "      <th></th>\n",
       "      <th>EDiscipline</th>\n",
       "      <th>Annee_Bibliographique</th>\n",
       "    </tr>\n",
       "    <tr>\n",
       "      <th>Cluster_ID</th>\n",
       "      <th></th>\n",
       "      <th></th>\n",
       "    </tr>\n",
       "  </thead>\n",
       "  <tbody>\n",
       "    <tr>\n",
       "      <th>44</th>\n",
       "      <td>Clinical Medicine</td>\n",
       "      <td>2008</td>\n",
       "    </tr>\n",
       "    <tr>\n",
       "      <th>172465</th>\n",
       "      <td>Clinical Medicine</td>\n",
       "      <td>2009</td>\n",
       "    </tr>\n",
       "    <tr>\n",
       "      <th>395363</th>\n",
       "      <td>Clinical Medicine</td>\n",
       "      <td>2011</td>\n",
       "    </tr>\n",
       "    <tr>\n",
       "      <th>465441</th>\n",
       "      <td>Clinical Medicine</td>\n",
       "      <td>2014</td>\n",
       "    </tr>\n",
       "    <tr>\n",
       "      <th>551320</th>\n",
       "      <td>Clinical Medicine</td>\n",
       "      <td>2015</td>\n",
       "    </tr>\n",
       "  </tbody>\n",
       "</table>\n",
       "</div>"
      ],
      "text/plain": [
       "                  EDiscipline  Annee_Bibliographique\n",
       "Cluster_ID                                          \n",
       "44          Clinical Medicine                   2008\n",
       "172465      Clinical Medicine                   2009\n",
       "395363      Clinical Medicine                   2011\n",
       "465441      Clinical Medicine                   2014\n",
       "551320      Clinical Medicine                   2015"
      ]
     },
     "execution_count": 12,
     "metadata": {},
     "output_type": "execute_result"
    }
   ],
   "source": [
    "list_disciplines = disciplines['EDiscipline']\n",
    "nb_disciplines = len(list_disciplines)\n",
    "stats = {}\n",
    "for i in range(nb_disciplines):\n",
    "    disc = liste_disciplines[i]\n",
    "    #row:stats type, cols: years, dep: 1:years since first, 2: year of pub\n",
    "    stats[disc] = np.array([4,102,2])"
   ]
  },
  {
   "cell_type": "code",
   "execution_count": 14,
   "metadata": {},
   "outputs": [
    {
     "data": {
      "text/html": [
       "<div>\n",
       "<style scoped>\n",
       "    .dataframe tbody tr th:only-of-type {\n",
       "        vertical-align: middle;\n",
       "    }\n",
       "\n",
       "    .dataframe tbody tr th {\n",
       "        vertical-align: top;\n",
       "    }\n",
       "\n",
       "    .dataframe thead th {\n",
       "        text-align: right;\n",
       "    }\n",
       "</style>\n",
       "<table border=\"1\" class=\"dataframe\">\n",
       "  <thead>\n",
       "    <tr style=\"text-align: right;\">\n",
       "      <th></th>\n",
       "      <th>Cluster_ID</th>\n",
       "      <th>ID_Art</th>\n",
       "      <th>Annee_Bibliographique</th>\n",
       "      <th>Code_Revue</th>\n",
       "      <th>EDiscipline</th>\n",
       "    </tr>\n",
       "  </thead>\n",
       "  <tbody>\n",
       "    <tr>\n",
       "      <th>0</th>\n",
       "      <td>44</td>\n",
       "      <td>31346952</td>\n",
       "      <td>2008</td>\n",
       "      <td>3306</td>\n",
       "      <td>Clinical Medicine</td>\n",
       "    </tr>\n",
       "    <tr>\n",
       "      <th>1</th>\n",
       "      <td>41700452</td>\n",
       "      <td>45961858</td>\n",
       "      <td>2010</td>\n",
       "      <td>3306</td>\n",
       "      <td>Clinical Medicine</td>\n",
       "    </tr>\n",
       "    <tr>\n",
       "      <th>2</th>\n",
       "      <td>43807191</td>\n",
       "      <td>30069198</td>\n",
       "      <td>2007</td>\n",
       "      <td>3306</td>\n",
       "      <td>Clinical Medicine</td>\n",
       "    </tr>\n",
       "    <tr>\n",
       "      <th>3</th>\n",
       "      <td>39522379</td>\n",
       "      <td>30069198</td>\n",
       "      <td>2007</td>\n",
       "      <td>3306</td>\n",
       "      <td>Clinical Medicine</td>\n",
       "    </tr>\n",
       "    <tr>\n",
       "      <th>4</th>\n",
       "      <td>48792209</td>\n",
       "      <td>30069198</td>\n",
       "      <td>2007</td>\n",
       "      <td>3306</td>\n",
       "      <td>Clinical Medicine</td>\n",
       "    </tr>\n",
       "    <tr>\n",
       "      <th>5</th>\n",
       "      <td>21203424</td>\n",
       "      <td>30069198</td>\n",
       "      <td>2007</td>\n",
       "      <td>3306</td>\n",
       "      <td>Clinical Medicine</td>\n",
       "    </tr>\n",
       "    <tr>\n",
       "      <th>6</th>\n",
       "      <td>45968464</td>\n",
       "      <td>49634098</td>\n",
       "      <td>2012</td>\n",
       "      <td>3306</td>\n",
       "      <td>Clinical Medicine</td>\n",
       "    </tr>\n",
       "    <tr>\n",
       "      <th>7</th>\n",
       "      <td>20480185</td>\n",
       "      <td>49634098</td>\n",
       "      <td>2012</td>\n",
       "      <td>3306</td>\n",
       "      <td>Clinical Medicine</td>\n",
       "    </tr>\n",
       "    <tr>\n",
       "      <th>8</th>\n",
       "      <td>12380537</td>\n",
       "      <td>49634098</td>\n",
       "      <td>2012</td>\n",
       "      <td>3306</td>\n",
       "      <td>Clinical Medicine</td>\n",
       "    </tr>\n",
       "    <tr>\n",
       "      <th>9</th>\n",
       "      <td>40778663</td>\n",
       "      <td>47539070</td>\n",
       "      <td>2011</td>\n",
       "      <td>3306</td>\n",
       "      <td>Clinical Medicine</td>\n",
       "    </tr>\n",
       "    <tr>\n",
       "      <th>10</th>\n",
       "      <td>39369213</td>\n",
       "      <td>47539070</td>\n",
       "      <td>2011</td>\n",
       "      <td>3306</td>\n",
       "      <td>Clinical Medicine</td>\n",
       "    </tr>\n",
       "    <tr>\n",
       "      <th>11</th>\n",
       "      <td>35052171</td>\n",
       "      <td>47539070</td>\n",
       "      <td>2011</td>\n",
       "      <td>3306</td>\n",
       "      <td>Clinical Medicine</td>\n",
       "    </tr>\n",
       "    <tr>\n",
       "      <th>12</th>\n",
       "      <td>40583590</td>\n",
       "      <td>46523849</td>\n",
       "      <td>2011</td>\n",
       "      <td>3306</td>\n",
       "      <td>Clinical Medicine</td>\n",
       "    </tr>\n",
       "    <tr>\n",
       "      <th>13</th>\n",
       "      <td>26187516</td>\n",
       "      <td>46523849</td>\n",
       "      <td>2011</td>\n",
       "      <td>3306</td>\n",
       "      <td>Clinical Medicine</td>\n",
       "    </tr>\n",
       "    <tr>\n",
       "      <th>14</th>\n",
       "      <td>2111198</td>\n",
       "      <td>46523849</td>\n",
       "      <td>2011</td>\n",
       "      <td>3306</td>\n",
       "      <td>Clinical Medicine</td>\n",
       "    </tr>\n",
       "    <tr>\n",
       "      <th>15</th>\n",
       "      <td>26632283</td>\n",
       "      <td>46523849</td>\n",
       "      <td>2011</td>\n",
       "      <td>3306</td>\n",
       "      <td>Clinical Medicine</td>\n",
       "    </tr>\n",
       "    <tr>\n",
       "      <th>16</th>\n",
       "      <td>22558530</td>\n",
       "      <td>46523849</td>\n",
       "      <td>2011</td>\n",
       "      <td>3306</td>\n",
       "      <td>Clinical Medicine</td>\n",
       "    </tr>\n",
       "    <tr>\n",
       "      <th>17</th>\n",
       "      <td>20884067</td>\n",
       "      <td>46523849</td>\n",
       "      <td>2011</td>\n",
       "      <td>3306</td>\n",
       "      <td>Clinical Medicine</td>\n",
       "    </tr>\n",
       "    <tr>\n",
       "      <th>18</th>\n",
       "      <td>12313698</td>\n",
       "      <td>46523849</td>\n",
       "      <td>2011</td>\n",
       "      <td>3306</td>\n",
       "      <td>Clinical Medicine</td>\n",
       "    </tr>\n",
       "    <tr>\n",
       "      <th>19</th>\n",
       "      <td>12308093</td>\n",
       "      <td>46523849</td>\n",
       "      <td>2011</td>\n",
       "      <td>3306</td>\n",
       "      <td>Clinical Medicine</td>\n",
       "    </tr>\n",
       "  </tbody>\n",
       "</table>\n",
       "</div>"
      ],
      "text/plain": [
       "    Cluster_ID    ID_Art  Annee_Bibliographique  Code_Revue        EDiscipline\n",
       "0           44  31346952                   2008        3306  Clinical Medicine\n",
       "1     41700452  45961858                   2010        3306  Clinical Medicine\n",
       "2     43807191  30069198                   2007        3306  Clinical Medicine\n",
       "3     39522379  30069198                   2007        3306  Clinical Medicine\n",
       "4     48792209  30069198                   2007        3306  Clinical Medicine\n",
       "5     21203424  30069198                   2007        3306  Clinical Medicine\n",
       "6     45968464  49634098                   2012        3306  Clinical Medicine\n",
       "7     20480185  49634098                   2012        3306  Clinical Medicine\n",
       "8     12380537  49634098                   2012        3306  Clinical Medicine\n",
       "9     40778663  47539070                   2011        3306  Clinical Medicine\n",
       "10    39369213  47539070                   2011        3306  Clinical Medicine\n",
       "11    35052171  47539070                   2011        3306  Clinical Medicine\n",
       "12    40583590  46523849                   2011        3306  Clinical Medicine\n",
       "13    26187516  46523849                   2011        3306  Clinical Medicine\n",
       "14     2111198  46523849                   2011        3306  Clinical Medicine\n",
       "15    26632283  46523849                   2011        3306  Clinical Medicine\n",
       "16    22558530  46523849                   2011        3306  Clinical Medicine\n",
       "17    20884067  46523849                   2011        3306  Clinical Medicine\n",
       "18    12313698  46523849                   2011        3306  Clinical Medicine\n",
       "19    12308093  46523849                   2011        3306  Clinical Medicine"
      ]
     },
     "execution_count": 14,
     "metadata": {},
     "output_type": "execute_result"
    }
   ],
   "source": [
    "clusterID.head(20)"
   ]
  }
 ],
 "metadata": {
  "kernelspec": {
   "display_name": "Python 3",
   "language": "python",
   "name": "python3"
  },
  "language_info": {
   "codemirror_mode": {
    "name": "ipython",
    "version": 3
   },
   "file_extension": ".py",
   "mimetype": "text/x-python",
   "name": "python",
   "nbconvert_exporter": "python",
   "pygments_lexer": "ipython3",
   "version": "3.6.3"
  }
 },
 "nbformat": 4,
 "nbformat_minor": 2
}
