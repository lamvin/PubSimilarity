{
 "cells": [
  {
   "cell_type": "code",
   "execution_count": 1,
   "metadata": {
    "collapsed": true
   },
   "outputs": [],
   "source": [
    "import pandas as pd\n",
    "import numpy as np\n",
    "from matplotlib import pyplot as plt\n",
    "import os\n",
    "import glob"
   ]
  },
  {
   "cell_type": "code",
   "execution_count": 2,
   "metadata": {
    "collapsed": true
   },
   "outputs": [],
   "source": [
    "path = \"/mnt/disks/sdc/BQ/\""
   ]
  },
  {
   "cell_type": "code",
   "execution_count": 3,
   "metadata": {
    "collapsed": true
   },
   "outputs": [],
   "source": [
    "colors = [np.array([225,85,25]),\n",
    "         np.array([45,121,198]),\n",
    "         np.array([134,185,58])]\n",
    "colors = [x/255 for x in colors]\n",
    "#colors_out = [x/255 for x in colors]"
   ]
  },
  {
   "cell_type": "markdown",
   "metadata": {},
   "source": [
    "#### Auther level sim"
   ]
  },
  {
   "cell_type": "code",
   "execution_count": 4,
   "metadata": {
    "collapsed": true
   },
   "outputs": [],
   "source": [
    "all_files = glob.glob(path + \"/avg_author_sim_prop*.csv\")"
   ]
  },
  {
   "cell_type": "code",
   "execution_count": 7,
   "metadata": {
    "collapsed": true
   },
   "outputs": [],
   "source": [
    "li = []\n",
    "\n",
    "for filename in all_files:\n",
    "    df = pd.read_csv(filename, index_col=None, header=0)\n",
    "    li.append(df)\n",
    "\n",
    "data = pd.concat(li, axis=0, ignore_index=True)"
   ]
  },
  {
   "cell_type": "code",
   "execution_count": 8,
   "metadata": {},
   "outputs": [],
   "source": [
    "groups = pd.unique(data['group_aut'])[:-1]"
   ]
  },
  {
   "cell_type": "code",
   "execution_count": 9,
   "metadata": {
    "collapsed": true
   },
   "outputs": [],
   "source": [
    "nb_groups = len(groups)"
   ]
  },
  {
   "cell_type": "code",
   "execution_count": 10,
   "metadata": {},
   "outputs": [
    {
     "data": {
      "text/plain": [
       "array(['Health Sciences', 'Social Sciences',\n",
       "       'Natural Sciences and Engineering', 'Arts and Humanities'], dtype=object)"
      ]
     },
     "execution_count": 10,
     "metadata": {},
     "output_type": "execute_result"
    }
   ],
   "source": [
    "groups"
   ]
  },
  {
   "cell_type": "code",
   "execution_count": 25,
   "metadata": {
    "collapsed": true
   },
   "outputs": [],
   "source": [
    "plt.close()"
   ]
  },
  {
   "cell_type": "code",
   "execution_count": 11,
   "metadata": {},
   "outputs": [],
   "source": [
    "plt.figure(figsize=(15,15))\n",
    "\n",
    "for i in range(nb_groups):\n",
    "    group = groups[i]\n",
    "    x1 = data.loc[(data['group_aut']==group) & (data['Type_Cit']==0),'sim']\n",
    "    x2 = data.loc[(data['group_aut']==group) & (data['Type_Cit']==1),'sim']\n",
    "    x3 = data.loc[(data['group_aut']==group) & (data['Type_Cit']==2),'sim']\n",
    "    \n",
    "    n_bins = 125\n",
    "    kwargs = dict(histtype='step', alpha=1, bins=n_bins,linewidth=3)\n",
    "    ax = plt.subplot(2,2,i+1)\n",
    "    \n",
    "    plt.hist(x3, **kwargs, color=colors[0], label='Others')\n",
    "    plt.hist(x2, **kwargs, color=colors[1], label='Network')\n",
    "    plt.hist(x1, **kwargs, color=colors[2], label='Self')\n",
    "    plt.xlabel('Similarity')\n",
    "\n",
    "    kwargs = dict(alpha=0.2, bins=n_bins,linewidth=3)\n",
    "    plt.hist(x3, **kwargs, color=colors[0], label='Others')\n",
    "    plt.hist(x2, **kwargs, color=colors[1], label='Network')\n",
    "    plt.hist(x1, **kwargs, color=colors[2], label='Self')\n",
    "    # Hide the right and top spines\n",
    "    ax.spines['right'].set_visible(False)\n",
    "    ax.spines['top'].set_visible(False)\n",
    "\n",
    "    # Only show ticks on the left and bottom spines\n",
    "    ax.yaxis.set_ticks_position('left')\n",
    "    ax.xaxis.set_ticks_position('bottom')\n",
    "    \n",
    "\n",
    "    scale_y = 1e3\n",
    "    y_vals = ax.get_yticks()\n",
    "    if group == 'Arts and Humanities':\n",
    "        ax.set_yticklabels(['{:.1f}'.format(x /scale_y) for x in y_vals])\n",
    "    else:\n",
    "        ax.set_yticklabels(['{:d}'.format(int(x /scale_y)) for x in y_vals])\n",
    "    plt.rcParams.update({'font.size': 22})\n",
    "    plt.tick_params(labelsize=18)\n",
    "    plt.title(group,size=25)\n",
    "    plt.ylabel('Frequency [k]')\n",
    "    #plt.gca().set(title=disc, ylabel='Frequency')\n",
    "    plt.legend()\n",
    "out_path = path+'results_sim_bq/'\n",
    "#plt.show()\n",
    "if not os.path.exists(out_path):\n",
    "    os.makedirs(out_path)\n",
    "plt.savefig(out_path+'hist_avg_per_authors.png')\n",
    "plt.savefig(out_path+'hist_avg_per_authors.svg')\n",
    "plt.close()"
   ]
  },
  {
   "cell_type": "markdown",
   "metadata": {},
   "source": [
    "#### Sim by prop sim x (inverted)"
   ]
  },
  {
   "cell_type": "code",
   "execution_count": 33,
   "metadata": {
    "collapsed": true
   },
   "outputs": [],
   "source": [
    "df_prop = data.copy()\n",
    "df_prop = df_prop.loc[df_prop['Count_Cluster']>=20]"
   ]
  },
  {
   "cell_type": "code",
   "execution_count": 34,
   "metadata": {
    "collapsed": true
   },
   "outputs": [],
   "source": [
    "bins = np.linspace(0,1,21)\n",
    "df_hist = df_prop.copy()\n",
    "df_hist['binned'] = pd.cut(df_hist['sim'],bins)\n",
    "df_hist = df_hist.groupby(['binned','Type_Cit','group_aut']).agg({'prop_cit':'count'}).reset_index()\n",
    "df_hist.columns = [\"\".join(x) for x in df_hist.columns.ravel()]\n",
    "df_hist['bin_x'] = df_hist.apply(lambda x: x['binned'].mid,axis=1)"
   ]
  },
  {
   "cell_type": "code",
   "execution_count": 35,
   "metadata": {
    "collapsed": true
   },
   "outputs": [],
   "source": [
    "for group in groups:\n",
    "    for type_cit in range(3):\n",
    "        df_prop.loc[(df_prop['group_aut'] == group) & (df_prop['Type_Cit'] == type_cit),'qbinned'] = pd.qcut(df_prop.loc[(df_prop['group_aut'] == group) & \n",
    "                                                                                                                     (df_prop['Type_Cit'] == type_cit),'sim'],15)"
   ]
  },
  {
   "cell_type": "code",
   "execution_count": 36,
   "metadata": {
    "collapsed": true
   },
   "outputs": [],
   "source": [
    "df_prop = df_prop.groupby(['qbinned','Type_Cit','group_aut']).agg({'prop_cit':['mean','count']}).reset_index()"
   ]
  },
  {
   "cell_type": "code",
   "execution_count": 37,
   "metadata": {
    "collapsed": true
   },
   "outputs": [],
   "source": [
    "df_prop.columns = [\"\".join(x) for x in df_prop.columns.ravel()]"
   ]
  },
  {
   "cell_type": "code",
   "execution_count": 38,
   "metadata": {
    "collapsed": true
   },
   "outputs": [],
   "source": [
    "df_prop['bin_x'] = df_prop.apply(lambda x: x['qbinned'].mid,axis=1)"
   ]
  },
  {
   "cell_type": "code",
   "execution_count": 39,
   "metadata": {},
   "outputs": [],
   "source": [
    "plt.figure(figsize=(15,15))\n",
    "\n",
    "for i in range(nb_groups):\n",
    "    group = groups[i]\n",
    "    x1 = df_prop.loc[(df_prop['group_aut']==group) & (df_prop['Type_Cit']==0),\n",
    "                          ['bin_x','prop_citmean']]\n",
    "    x2 = df_prop.loc[(df_prop['group_aut']==group) & (df_prop['Type_Cit']==1),\n",
    "                          ['bin_x','prop_citmean']]\n",
    "    x3 = df_prop.loc[(df_prop['group_aut']==group) & (df_prop['Type_Cit']==2),\n",
    "                          ['bin_x','prop_citmean']]\n",
    "    \n",
    "    \n",
    "    kwargs = dict(alpha=1,linewidth=2,marker=\".\",markersize=10)\n",
    "    ax = plt.subplot(2,2,i+1)\n",
    "    \n",
    "    plt.plot(x3['bin_x'],x3['prop_citmean'], **kwargs, color=colors[0], label='Others')\n",
    "    plt.plot(x2['bin_x'],x2['prop_citmean'],**kwargs, color=colors[1], label='Network')\n",
    "    plt.plot(x1['bin_x'],x1['prop_citmean'], **kwargs, color=colors[2], label='Self')\n",
    "    \n",
    "    \n",
    "   \n",
    "    \n",
    "    # Hide the right and top spines\n",
    "    ax.spines['right'].set_visible(False)\n",
    "    ax.spines['top'].set_visible(False)\n",
    "\n",
    "    # Only show ticks on the left and bottom spines\n",
    "    ax.yaxis.set_ticks_position('left')\n",
    "    ax.xaxis.set_ticks_position('bottom')\n",
    "    \n",
    "\n",
    "    plt.title(group,size=25)\n",
    "    plt.ylabel('Proportion citation type')\n",
    "    #plt.gca().set(title=disc, ylabel='Frequency')\n",
    "    plt.legend()\n",
    "    plt.tick_params(labelsize=20)\n",
    "    plt.rcParams.update({'font.size': 22})\n",
    "    plt.xlabel('Average similarity')\n",
    "    ax2 = ax.twinx()\n",
    "    x1 = df_hist.loc[(df_hist['group_aut']==group) & (df_hist['Type_Cit']==0),\n",
    "                          ['bin_x','prop_cit']]\n",
    "    x2 = df_hist.loc[(df_hist['group_aut']==group) & (df_hist['Type_Cit']==1),\n",
    "                          ['bin_x','prop_cit']]\n",
    "    x3 = df_hist.loc[(df_hist['group_aut']==group) & (df_hist['Type_Cit']==2),\n",
    "                          ['bin_x','prop_cit']]\n",
    "    \n",
    "    \n",
    "    kwargs = dict(alpha=0.5,linewidth=3,linestyle='--')\n",
    "    \n",
    "    plt.plot(x3['bin_x'],x3['prop_cit'], **kwargs, color=colors[0], label='Others')\n",
    "    plt.plot(x2['bin_x'],x2['prop_cit'],**kwargs, color=colors[1], label='Network')\n",
    "    plt.plot(x1['bin_x'],x1['prop_cit'], **kwargs, color=colors[2], label='Self')\n",
    "    plt.ylabel('# Authors (k)')\n",
    "    scale_y = 1e3\n",
    "    y_vals = ax2.get_yticks()\n",
    "    if group == 'Arts and Humanities':\n",
    "        ax2.set_yticklabels(['{:.1f}'.format(x /scale_y) for x in y_vals])\n",
    "    else:\n",
    "        ax2.set_yticklabels(['{:d}'.format(int(x /scale_y)) for x in y_vals])\n",
    "    plt.tick_params(labelsize=20)\n",
    "    plt.rcParams.update({'font.size': 22})\n",
    "out_path = path+'results_sim_bq/'\n",
    "#plt.show()\n",
    "if not os.path.exists(out_path):\n",
    "    os.makedirs(out_path)\n",
    "plt.savefig(out_path+'sim_per_prop_cit_inverted.png')\n",
    "plt.savefig(out_path+'sim_per_prop_cit_inverted.svg')\n",
    "plt.close()"
   ]
  },
  {
   "cell_type": "markdown",
   "metadata": {},
   "source": [
    "#### Sim by prop pro x"
   ]
  },
  {
   "cell_type": "code",
   "execution_count": 44,
   "metadata": {},
   "outputs": [],
   "source": [
    "df_prop = data.copy()\n",
    "df_prop = df_prop.loc[df_prop['Count_Cluster']>=20]"
   ]
  },
  {
   "cell_type": "code",
   "execution_count": 45,
   "metadata": {},
   "outputs": [],
   "source": [
    "bins = np.linspace(0,1,21)\n",
    "df_hist = df_prop.copy()\n",
    "df_hist['binned'] = pd.cut(df_hist['sim'],bins)\n",
    "df_hist = df_hist.groupby(['binned','Type_Cit','group_aut']).agg({'sim':'count'}).reset_index()\n",
    "df_hist.columns = [\"\".join(x) for x in df_hist.columns.ravel()]\n",
    "df_hist['bin_x'] = df_hist.apply(lambda x: x['binned'].mid,axis=1)"
   ]
  },
  {
   "cell_type": "code",
   "execution_count": 48,
   "metadata": {},
   "outputs": [
    {
     "data": {
      "text/html": [
       "<div>\n",
       "<style>\n",
       "    .dataframe thead tr:only-child th {\n",
       "        text-align: right;\n",
       "    }\n",
       "\n",
       "    .dataframe thead th {\n",
       "        text-align: left;\n",
       "    }\n",
       "\n",
       "    .dataframe tbody tr th {\n",
       "        vertical-align: top;\n",
       "    }\n",
       "</style>\n",
       "<table border=\"1\" class=\"dataframe\">\n",
       "  <thead>\n",
       "    <tr style=\"text-align: right;\">\n",
       "      <th></th>\n",
       "      <th>Aut_citant</th>\n",
       "      <th>Type_Cit</th>\n",
       "      <th>type_count</th>\n",
       "      <th>group_aut</th>\n",
       "      <th>sim</th>\n",
       "      <th>Count_Cluster</th>\n",
       "      <th>prop_cit</th>\n",
       "      <th>qbinned</th>\n",
       "    </tr>\n",
       "  </thead>\n",
       "  <tbody>\n",
       "    <tr>\n",
       "      <th>1</th>\n",
       "      <td>48486112</td>\n",
       "      <td>2</td>\n",
       "      <td>32</td>\n",
       "      <td>Health Sciences</td>\n",
       "      <td>0.125057</td>\n",
       "      <td>33</td>\n",
       "      <td>0.969697</td>\n",
       "      <td>NaN</td>\n",
       "    </tr>\n",
       "    <tr>\n",
       "      <th>5</th>\n",
       "      <td>10572023</td>\n",
       "      <td>1</td>\n",
       "      <td>5</td>\n",
       "      <td>Natural Sciences and Engineering</td>\n",
       "      <td>0.285498</td>\n",
       "      <td>32</td>\n",
       "      <td>0.156250</td>\n",
       "      <td>NaN</td>\n",
       "    </tr>\n",
       "    <tr>\n",
       "      <th>7</th>\n",
       "      <td>23555270</td>\n",
       "      <td>0</td>\n",
       "      <td>1312</td>\n",
       "      <td>Social Sciences</td>\n",
       "      <td>0.250287</td>\n",
       "      <td>8101</td>\n",
       "      <td>0.161955</td>\n",
       "      <td>NaN</td>\n",
       "    </tr>\n",
       "    <tr>\n",
       "      <th>8</th>\n",
       "      <td>37790961</td>\n",
       "      <td>2</td>\n",
       "      <td>26</td>\n",
       "      <td>Natural Sciences and Engineering</td>\n",
       "      <td>0.119449</td>\n",
       "      <td>26</td>\n",
       "      <td>1.000000</td>\n",
       "      <td>NaN</td>\n",
       "    </tr>\n",
       "    <tr>\n",
       "      <th>9</th>\n",
       "      <td>24360679</td>\n",
       "      <td>2</td>\n",
       "      <td>32</td>\n",
       "      <td>Natural Sciences and Engineering</td>\n",
       "      <td>0.204781</td>\n",
       "      <td>33</td>\n",
       "      <td>0.969697</td>\n",
       "      <td>NaN</td>\n",
       "    </tr>\n",
       "  </tbody>\n",
       "</table>\n",
       "</div>"
      ],
      "text/plain": [
       "   Aut_citant  Type_Cit  type_count                         group_aut  \\\n",
       "1    48486112         2          32                   Health Sciences   \n",
       "5    10572023         1           5  Natural Sciences and Engineering   \n",
       "7    23555270         0        1312                   Social Sciences   \n",
       "8    37790961         2          26  Natural Sciences and Engineering   \n",
       "9    24360679         2          32  Natural Sciences and Engineering   \n",
       "\n",
       "        sim  Count_Cluster  prop_cit qbinned  \n",
       "1  0.125057             33  0.969697     NaN  \n",
       "5  0.285498             32  0.156250     NaN  \n",
       "7  0.250287           8101  0.161955     NaN  \n",
       "8  0.119449             26  1.000000     NaN  \n",
       "9  0.204781             33  0.969697     NaN  "
      ]
     },
     "execution_count": 48,
     "metadata": {},
     "output_type": "execute_result"
    }
   ],
   "source": [
    "df_prop.head()"
   ]
  },
  {
   "cell_type": "code",
   "execution_count": 49,
   "metadata": {},
   "outputs": [
    {
     "data": {
      "image/png": "[encoded data removed]",
      "text/plain": [
       "<matplotlib.figure.Figure at 0x7fd3a9e9c828>"
      ]
     },
     "metadata": {},
     "output_type": "display_data"
    }
   ],
   "source": [
    "plt.hist(df_prop['prop_cit'])\n",
    "plt.show()"
   ]
  },
  {
   "cell_type": "code",
   "execution_count": 52,
   "metadata": {},
   "outputs": [],
   "source": [
    "for group in groups:\n",
    "    for type_cit in range(3):\n",
    "        df_prop.loc[(df_prop['group_aut'] == group) & (df_prop['Type_Cit'] == type_cit),'qbinned'] = pd.qcut(df_prop.loc[(df_prop['group_aut'] == group) & \n",
    "                                                                                                                     (df_prop['Type_Cit'] == type_cit),'prop_cit'],15,duplicates='drop')"
   ]
  },
  {
   "cell_type": "code",
   "execution_count": 53,
   "metadata": {
    "collapsed": true
   },
   "outputs": [],
   "source": [
    "df_prop = df_prop.groupby(['qbinned','Type_Cit','group_aut']).agg({'sim':['mean','count']}).reset_index()\n",
    "df_prop.columns = [\"\".join(x) for x in df_prop.columns.ravel()]\n",
    "df_prop['bin_x'] = df_prop.apply(lambda x: x['qbinned'].mid,axis=1)"
   ]
  },
  {
   "cell_type": "code",
   "execution_count": 56,
   "metadata": {},
   "outputs": [],
   "source": [
    "plt.figure(figsize=(15,15))\n",
    "\n",
    "for i in range(nb_groups):\n",
    "    group = groups[i]\n",
    "    x1 = df_prop.loc[(df_prop['group_aut']==group) & (df_prop['Type_Cit']==0),\n",
    "                          ['bin_x','simmean']]\n",
    "    x2 = df_prop.loc[(df_prop['group_aut']==group) & (df_prop['Type_Cit']==1),\n",
    "                          ['bin_x','simmean']]\n",
    "    x3 = df_prop.loc[(df_prop['group_aut']==group) & (df_prop['Type_Cit']==2),\n",
    "                          ['bin_x','simmean']]\n",
    "    \n",
    "    \n",
    "    kwargs = dict(alpha=1,linewidth=2,marker=\".\",markersize=10)\n",
    "    ax = plt.subplot(2,2,i+1)\n",
    "    \n",
    "    plt.plot(x3['bin_x'],x3['simmean'], **kwargs, color=colors[0], label='Others')\n",
    "    plt.plot(x2['bin_x'],x2['simmean'],**kwargs, color=colors[1], label='Network')\n",
    "    plt.plot(x1['bin_x'],x1['simmean'], **kwargs, color=colors[2], label='Self')\n",
    "    \n",
    "    \n",
    "   \n",
    "    \n",
    "    # Hide the right and top spines\n",
    "    ax.spines['right'].set_visible(False)\n",
    "    ax.spines['top'].set_visible(False)\n",
    "\n",
    "    # Only show ticks on the left and bottom spines\n",
    "    ax.yaxis.set_ticks_position('left')\n",
    "    ax.xaxis.set_ticks_position('bottom')\n",
    "    \n",
    "\n",
    "#     scale_y = 1e3\n",
    "#     y_vals = ax.get_yticks()\n",
    "#     if i == 0:\n",
    "#         ax.set_yticklabels(['{:.1f}'.format(x /scale_y) for x in y_vals])\n",
    "#     else:\n",
    "#         ax.set_yticklabels(['{:d}'.format(int(x /scale_y)) for x in y_vals])\n",
    "    #plt.xlim([1980,2019])\n",
    "    #plt.ylim([0.1,0.5])\n",
    "\n",
    "    plt.title(group,size=25)\n",
    "    plt.ylabel('Average similarity')\n",
    "    #plt.gca().set(title=disc, ylabel='Frequency')\n",
    "    plt.legend()\n",
    "    plt.tick_params(labelsize=20)\n",
    "    plt.rcParams.update({'font.size': 22})\n",
    "    plt.xlabel('Proportion citation type')\n",
    "    ax2 = ax.twinx()\n",
    "    x1 = df_hist.loc[(df_hist['group_aut']==group) & (df_hist['Type_Cit']==0),\n",
    "                          ['bin_x','sim']]\n",
    "    x2 = df_hist.loc[(df_hist['group_aut']==group) & (df_hist['Type_Cit']==1),\n",
    "                          ['bin_x','sim']]\n",
    "    x3 = df_hist.loc[(df_hist['group_aut']==group) & (df_hist['Type_Cit']==2),\n",
    "                          ['bin_x','sim']]\n",
    "    \n",
    "    \n",
    "    kwargs = dict(alpha=0.5,linewidth=3,linestyle='--')\n",
    "    \n",
    "    plt.plot(x3['bin_x'],x3['sim'], **kwargs, color=colors[0], label='Others')\n",
    "    plt.plot(x2['bin_x'],x2['sim'],**kwargs, color=colors[1], label='Network')\n",
    "    plt.plot(x1['bin_x'],x1['sim'], **kwargs, color=colors[2], label='Self')\n",
    "    plt.ylabel('# Authors (k)')\n",
    "    scale_y = 1e3\n",
    "    y_vals = ax2.get_yticks()\n",
    "    if group == 'Arts and Humanities':\n",
    "        ax2.set_yticklabels(['{:.2f}'.format(x /scale_y) for x in y_vals])\n",
    "    else:\n",
    "        ax2.set_yticklabels(['{:d}'.format(int(x /scale_y)) for x in y_vals])\n",
    "    plt.tick_params(labelsize=20)\n",
    "    plt.rcParams.update({'font.size': 22})\n",
    "out_path = path+'results_sim_bq/'\n",
    "#plt.show()\n",
    "if not os.path.exists(out_path):\n",
    "    os.makedirs(out_path)\n",
    "plt.savefig(out_path+'sim_per_prop_cit.png')\n",
    "plt.savefig(out_path+'sim_per_prop_cit.svg')\n",
    "plt.close()\n"
   ]
  },
  {
   "cell_type": "markdown",
   "metadata": {},
   "source": [
    "## Year level sim"
   ]
  },
  {
   "cell_type": "markdown",
   "metadata": {},
   "source": [
    "### year citing"
   ]
  },
  {
   "cell_type": "code",
   "execution_count": 57,
   "metadata": {
    "collapsed": true
   },
   "outputs": [],
   "source": [
    "avg_sim_year = pd.read_csv(path+'avg_year_citant_sim.csv')"
   ]
  },
  {
   "cell_type": "code",
   "execution_count": 58,
   "metadata": {},
   "outputs": [
    {
     "data": {
      "text/html": [
       "<div>\n",
       "<style>\n",
       "    .dataframe thead tr:only-child th {\n",
       "        text-align: right;\n",
       "    }\n",
       "\n",
       "    .dataframe thead th {\n",
       "        text-align: left;\n",
       "    }\n",
       "\n",
       "    .dataframe tbody tr th {\n",
       "        vertical-align: top;\n",
       "    }\n",
       "</style>\n",
       "<table border=\"1\" class=\"dataframe\">\n",
       "  <thead>\n",
       "    <tr style=\"text-align: right;\">\n",
       "      <th></th>\n",
       "      <th>Annee_Citant</th>\n",
       "      <th>Type_Cit</th>\n",
       "      <th>group</th>\n",
       "      <th>sim</th>\n",
       "      <th>count</th>\n",
       "    </tr>\n",
       "  </thead>\n",
       "  <tbody>\n",
       "    <tr>\n",
       "      <th>0</th>\n",
       "      <td>1934</td>\n",
       "      <td>0</td>\n",
       "      <td>Natural Sciences and Engineering</td>\n",
       "      <td>0.557007</td>\n",
       "      <td>3</td>\n",
       "    </tr>\n",
       "    <tr>\n",
       "      <th>1</th>\n",
       "      <td>1950</td>\n",
       "      <td>0</td>\n",
       "      <td>Natural Sciences and Engineering</td>\n",
       "      <td>0.253662</td>\n",
       "      <td>2</td>\n",
       "    </tr>\n",
       "    <tr>\n",
       "      <th>2</th>\n",
       "      <td>1955</td>\n",
       "      <td>0</td>\n",
       "      <td>Natural Sciences and Engineering</td>\n",
       "      <td>0.451904</td>\n",
       "      <td>2</td>\n",
       "    </tr>\n",
       "    <tr>\n",
       "      <th>3</th>\n",
       "      <td>1956</td>\n",
       "      <td>0</td>\n",
       "      <td>Natural Sciences and Engineering</td>\n",
       "      <td>0.432427</td>\n",
       "      <td>9</td>\n",
       "    </tr>\n",
       "    <tr>\n",
       "      <th>4</th>\n",
       "      <td>1957</td>\n",
       "      <td>0</td>\n",
       "      <td>Health Sciences</td>\n",
       "      <td>0.637695</td>\n",
       "      <td>1</td>\n",
       "    </tr>\n",
       "  </tbody>\n",
       "</table>\n",
       "</div>"
      ],
      "text/plain": [
       "   Annee_Citant  Type_Cit                             group       sim  count\n",
       "0          1934         0  Natural Sciences and Engineering  0.557007      3\n",
       "1          1950         0  Natural Sciences and Engineering  0.253662      2\n",
       "2          1955         0  Natural Sciences and Engineering  0.451904      2\n",
       "3          1956         0  Natural Sciences and Engineering  0.432427      9\n",
       "4          1957         0                   Health Sciences  0.637695      1"
      ]
     },
     "execution_count": 58,
     "metadata": {},
     "output_type": "execute_result"
    }
   ],
   "source": [
    "avg_sim_year.head()"
   ]
  },
  {
   "cell_type": "code",
   "execution_count": 60,
   "metadata": {},
   "outputs": [],
   "source": [
    "plt.figure(figsize=(15,15))\n",
    "\n",
    "for i in range(nb_groups):\n",
    "    group = groups[i]\n",
    "    x1 = avg_sim_year.loc[(avg_sim_year['group']==group) & (avg_sim_year['Type_Cit']==0),\n",
    "                          ['sim','Annee_Citant']]\n",
    "    x2 = avg_sim_year.loc[(avg_sim_year['group']==group) & (avg_sim_year['Type_Cit']==1),\n",
    "                          ['sim','Annee_Citant']]\n",
    "    x3 = avg_sim_year.loc[(avg_sim_year['group']==group) & (avg_sim_year['Type_Cit']==2),\n",
    "                          ['sim','Annee_Citant']]\n",
    "    \n",
    "    \n",
    "    \n",
    "    kwargs = dict(alpha=1,linewidth=3)\n",
    "    ax = plt.subplot(2,2,i+1)\n",
    "    \n",
    "    plt.plot(x3['Annee_Citant'],x3['sim'], **kwargs, color=colors[0], label='Others')\n",
    "    plt.plot(x2['Annee_Citant'],x2['sim'], **kwargs, color=colors[1], label='Network')\n",
    "    plt.plot(x1['Annee_Citant'],x1['sim'], **kwargs, color=colors[2], label='Self')\n",
    "    \n",
    "    # Hide the right and top spines\n",
    "    ax.spines['right'].set_visible(False)\n",
    "    ax.spines['top'].set_visible(False)\n",
    "\n",
    "    # Only show ticks on the left and bottom spines\n",
    "    ax.yaxis.set_ticks_position('left')\n",
    "    ax.xaxis.set_ticks_position('bottom')\n",
    "    \n",
    "\n",
    "#     scale_y = 1e3\n",
    "#     y_vals = ax.get_yticks()\n",
    "#     if i == 0:\n",
    "#         ax.set_yticklabels(['{:.1f}'.format(x /scale_y) for x in y_vals])\n",
    "#     else:\n",
    "#         ax.set_yticklabels(['{:d}'.format(int(x /scale_y)) for x in y_vals])\n",
    "    plt.xlim([1995,2019])\n",
    "    plt.ylim([0.1,0.5])\n",
    "    plt.title(group,size=25)\n",
    "    plt.ylabel('Average similarity')\n",
    "    plt.tick_params(labelsize=20)\n",
    "    plt.rcParams.update({'font.size': 22})\n",
    "    plt.xlabel('Year citing')\n",
    "    #plt.gca().set(title=disc, ylabel='Frequency')\n",
    "    plt.legend()\n",
    "out_path = path+'results_sim_bq/'\n",
    "#plt.show()\n",
    "if not os.path.exists(out_path):\n",
    "    os.makedirs(out_path)\n",
    "plt.savefig(out_path+'avg_year_citing.png')\n",
    "plt.savefig(out_path+'avg_year_citing.svg')\n",
    "plt.close()"
   ]
  },
  {
   "cell_type": "markdown",
   "metadata": {},
   "source": [
    "### year cited"
   ]
  },
  {
   "cell_type": "code",
   "execution_count": 62,
   "metadata": {},
   "outputs": [],
   "source": [
    "avg_sim_year = pd.read_csv(path+'avg_year_cite_sim.csv')"
   ]
  },
  {
   "cell_type": "code",
   "execution_count": 64,
   "metadata": {},
   "outputs": [],
   "source": [
    "plt.figure(figsize=(15,15))\n",
    "\n",
    "for i in range(nb_groups):\n",
    "    group = groups[i]\n",
    "    x1 = avg_sim_year.loc[(avg_sim_year['group']==group) & (avg_sim_year['Type_Cit']==0),\n",
    "                          ['sim','Annee_Cite']]\n",
    "    x2 = avg_sim_year.loc[(avg_sim_year['group']==group) & (avg_sim_year['Type_Cit']==1),\n",
    "                          ['sim','Annee_Cite']]\n",
    "    x3 = avg_sim_year.loc[(avg_sim_year['group']==group) & (avg_sim_year['Type_Cit']==2),\n",
    "                          ['sim','Annee_Cite']]\n",
    "    \n",
    "    \n",
    "    \n",
    "    kwargs = dict(alpha=1,linewidth=3)\n",
    "    ax = plt.subplot(2,2,i+1)\n",
    "    \n",
    "    plt.plot(x3['Annee_Cite'],x3['sim'], **kwargs, color=colors[0], label='Others')\n",
    "    plt.plot(x2['Annee_Cite'],x2['sim'], **kwargs, color=colors[1], label='Network')\n",
    "    plt.plot(x1['Annee_Cite'],x1['sim'], **kwargs, color=colors[2], label='Self')\n",
    "    \n",
    "    # Hide the right and top spines\n",
    "    ax.spines['right'].set_visible(False)\n",
    "    ax.spines['top'].set_visible(False)\n",
    "\n",
    "    # Only show ticks on the left and bottom spines\n",
    "    ax.yaxis.set_ticks_position('left')\n",
    "    ax.xaxis.set_ticks_position('bottom')\n",
    "    \n",
    "\n",
    "#     scale_y = 1e3\n",
    "#     y_vals = ax.get_yticks()\n",
    "#     if i == 0:\n",
    "#         ax.set_yticklabels(['{:.1f}'.format(x /scale_y) for x in y_vals])\n",
    "#     else:\n",
    "#         ax.set_yticklabels(['{:d}'.format(int(x /scale_y)) for x in y_vals])\n",
    "    plt.xlim([1995,2019])\n",
    "    plt.ylim([0.1,0.5])\n",
    "    plt.title(group,size=25)\n",
    "    plt.ylabel('Average similarity')\n",
    "    plt.tick_params(labelsize=20)\n",
    "    plt.rcParams.update({'font.size': 22})\n",
    "    plt.xlabel('Year cited')\n",
    "    #plt.gca().set(title=disc, ylabel='Frequency')\n",
    "    plt.legend()\n",
    "out_path = path+'results_sim_bq/'\n",
    "#plt.show()\n",
    "if not os.path.exists(out_path):\n",
    "    os.makedirs(out_path)\n",
    "plt.savefig(out_path+'avg_year_cited.png')\n",
    "plt.savefig(out_path+'avg_year_cited.svg')\n",
    "plt.close()"
   ]
  },
  {
   "cell_type": "markdown",
   "metadata": {},
   "source": [
    "### Age citation"
   ]
  },
  {
   "cell_type": "code",
   "execution_count": 66,
   "metadata": {},
   "outputs": [],
   "source": [
    "avg_sim_age = pd.read_csv(path+'avg_age_citation_sim.csv')"
   ]
  },
  {
   "cell_type": "code",
   "execution_count": 71,
   "metadata": {},
   "outputs": [],
   "source": [
    "plt.figure(figsize=(15,15))\n",
    "\n",
    "for i in range(nb_groups):\n",
    "    group = groups[i]\n",
    "    x1 = avg_sim_age.loc[(avg_sim_age['group']==group) & (avg_sim_age['Type_Cit']==0),\n",
    "                          ['sim','age_citation']]\n",
    "    x2 = avg_sim_age.loc[(avg_sim_age['group']==group) & (avg_sim_age['Type_Cit']==1),\n",
    "                          ['sim','age_citation']]\n",
    "    x3 = avg_sim_age.loc[(avg_sim_age['group']==group) & (avg_sim_age['Type_Cit']==2),\n",
    "                          ['sim','age_citation']]\n",
    "    \n",
    "    \n",
    "    \n",
    "    kwargs = dict(alpha=1,linewidth=3)\n",
    "    ax = plt.subplot(2,2,i+1)\n",
    "    \n",
    "    plt.plot(x3['age_citation'],x3['sim'], **kwargs, color=colors[0], label='Others')\n",
    "    plt.plot(x2['age_citation'],x2['sim'], **kwargs, color=colors[1], label='Network')\n",
    "    plt.plot(x1['age_citation'],x1['sim'], **kwargs, color=colors[2], label='Self')\n",
    "    \n",
    "    # Hide the right and top spines\n",
    "    ax.spines['right'].set_visible(False)\n",
    "    ax.spines['top'].set_visible(False)\n",
    "\n",
    "    # Only show ticks on the left and bottom spines\n",
    "    ax.yaxis.set_ticks_position('left')\n",
    "    ax.xaxis.set_ticks_position('bottom')\n",
    "    \n",
    "\n",
    "#     scale_y = 1e3\n",
    "#     y_vals = ax.get_yticks()\n",
    "#     if i == 0:\n",
    "#         ax.set_yticklabels(['{:.1f}'.format(x /scale_y) for x in y_vals])\n",
    "#     else:\n",
    "#         ax.set_yticklabels(['{:d}'.format(int(x /scale_y)) for x in y_vals])\n",
    "    plt.xlim([0,40])\n",
    "    #plt.ylim([0.1,0.5])\n",
    "    plt.title(group,size=25)\n",
    "    plt.ylabel('Average similarity')\n",
    "    plt.tick_params(labelsize=20)\n",
    "    plt.rcParams.update({'font.size': 22})\n",
    "    plt.xlabel('Age cited')\n",
    "    #plt.gca().set(title=disc, ylabel='Frequency')\n",
    "    plt.legend()\n",
    "out_path = path+'results_sim_bq/'\n",
    "#plt.show()\n",
    "if not os.path.exists(out_path):\n",
    "    os.makedirs(out_path)\n",
    "plt.savefig(out_path+'age_citation.png')\n",
    "plt.savefig(out_path+'age_citation.svg')\n",
    "plt.close()"
   ]
  },
  {
   "cell_type": "markdown",
   "metadata": {},
   "source": [
    "### Age author"
   ]
  },
  {
   "cell_type": "code",
   "execution_count": 72,
   "metadata": {
    "collapsed": true
   },
   "outputs": [],
   "source": [
    "avg_sim_age = pd.read_csv(path+'avg_age_author_sim.csv')"
   ]
  },
  {
   "cell_type": "code",
   "execution_count": 74,
   "metadata": {},
   "outputs": [
    {
     "data": {
      "text/html": [
       "<div>\n",
       "<style>\n",
       "    .dataframe thead tr:only-child th {\n",
       "        text-align: right;\n",
       "    }\n",
       "\n",
       "    .dataframe thead th {\n",
       "        text-align: left;\n",
       "    }\n",
       "\n",
       "    .dataframe tbody tr th {\n",
       "        vertical-align: top;\n",
       "    }\n",
       "</style>\n",
       "<table border=\"1\" class=\"dataframe\">\n",
       "  <thead>\n",
       "    <tr style=\"text-align: right;\">\n",
       "      <th></th>\n",
       "      <th>age_author</th>\n",
       "      <th>Type_Cit</th>\n",
       "      <th>group</th>\n",
       "      <th>sim</th>\n",
       "      <th>std_sim</th>\n",
       "      <th>count</th>\n",
       "    </tr>\n",
       "  </thead>\n",
       "  <tbody>\n",
       "    <tr>\n",
       "      <th>0</th>\n",
       "      <td>1</td>\n",
       "      <td>0</td>\n",
       "      <td>Social Sciences</td>\n",
       "      <td>0.380393</td>\n",
       "      <td>0.198266</td>\n",
       "      <td>38363</td>\n",
       "    </tr>\n",
       "    <tr>\n",
       "      <th>1</th>\n",
       "      <td>1</td>\n",
       "      <td>0</td>\n",
       "      <td>Natural Sciences and Engineering</td>\n",
       "      <td>0.370314</td>\n",
       "      <td>0.196300</td>\n",
       "      <td>272059</td>\n",
       "    </tr>\n",
       "    <tr>\n",
       "      <th>2</th>\n",
       "      <td>1</td>\n",
       "      <td>0</td>\n",
       "      <td>Health Sciences</td>\n",
       "      <td>0.397254</td>\n",
       "      <td>0.204309</td>\n",
       "      <td>146796</td>\n",
       "    </tr>\n",
       "    <tr>\n",
       "      <th>3</th>\n",
       "      <td>1</td>\n",
       "      <td>0</td>\n",
       "      <td>Arts and Humanities</td>\n",
       "      <td>0.322907</td>\n",
       "      <td>0.206989</td>\n",
       "      <td>342</td>\n",
       "    </tr>\n",
       "    <tr>\n",
       "      <th>4</th>\n",
       "      <td>1</td>\n",
       "      <td>0</td>\n",
       "      <td>NaN</td>\n",
       "      <td>0.308765</td>\n",
       "      <td>0.133830</td>\n",
       "      <td>5</td>\n",
       "    </tr>\n",
       "  </tbody>\n",
       "</table>\n",
       "</div>"
      ],
      "text/plain": [
       "   age_author  Type_Cit                             group       sim   std_sim  \\\n",
       "0           1         0                   Social Sciences  0.380393  0.198266   \n",
       "1           1         0  Natural Sciences and Engineering  0.370314  0.196300   \n",
       "2           1         0                   Health Sciences  0.397254  0.204309   \n",
       "3           1         0               Arts and Humanities  0.322907  0.206989   \n",
       "4           1         0                               NaN  0.308765  0.133830   \n",
       "\n",
       "    count  \n",
       "0   38363  \n",
       "1  272059  \n",
       "2  146796  \n",
       "3     342  \n",
       "4       5  "
      ]
     },
     "execution_count": 74,
     "metadata": {},
     "output_type": "execute_result"
    }
   ],
   "source": [
    "avg_sim_age.head()"
   ]
  },
  {
   "cell_type": "code",
   "execution_count": 76,
   "metadata": {},
   "outputs": [],
   "source": [
    "plt.figure(figsize=(15,15))\n",
    "\n",
    "for i in range(nb_groups):\n",
    "    group = groups[i]\n",
    "    x1 = avg_sim_age.loc[(avg_sim_age['group']==group) & (avg_sim_age['Type_Cit']==0),\n",
    "                          ['sim','age_author']]\n",
    "    x2 = avg_sim_age.loc[(avg_sim_age['group']==group) & (avg_sim_age['Type_Cit']==1),\n",
    "                          ['sim','age_author']]\n",
    "    x3 = avg_sim_age.loc[(avg_sim_age['group']==group) & (avg_sim_age['Type_Cit']==2),\n",
    "                          ['sim','age_author']]\n",
    "    \n",
    "    \n",
    "    \n",
    "    kwargs = dict(alpha=1,linewidth=3)\n",
    "    ax = plt.subplot(2,2,i+1)\n",
    "    \n",
    "    plt.plot(x3['age_author'],x3['sim'], **kwargs, color=colors[0], label='Others')\n",
    "    plt.plot(x2['age_author'],x2['sim'], **kwargs, color=colors[1], label='Network')\n",
    "    plt.plot(x1['age_author'],x1['sim'], **kwargs, color=colors[2], label='Self')\n",
    "    \n",
    "    # Hide the right and top spines\n",
    "    ax.spines['right'].set_visible(False)\n",
    "    ax.spines['top'].set_visible(False)\n",
    "\n",
    "    # Only show ticks on the left and bottom spines\n",
    "    ax.yaxis.set_ticks_position('left')\n",
    "    ax.xaxis.set_ticks_position('bottom')\n",
    "    \n",
    "\n",
    "#     scale_y = 1e3\n",
    "#     y_vals = ax.get_yticks()\n",
    "#     if i == 0:\n",
    "#         ax.set_yticklabels(['{:.1f}'.format(x /scale_y) for x in y_vals])\n",
    "#     else:\n",
    "#         ax.set_yticklabels(['{:d}'.format(int(x /scale_y)) for x in y_vals])\n",
    "    plt.xlim([0,40])\n",
    "    #plt.ylim([0.1,0.5])\n",
    "    plt.title(group,size=25)\n",
    "    plt.ylabel('Average similarity')\n",
    "    plt.tick_params(labelsize=20)\n",
    "    plt.rcParams.update({'font.size': 22})\n",
    "    plt.xlabel('Age author')\n",
    "    #plt.gca().set(title=disc, ylabel='Frequency')\n",
    "    plt.legend()\n",
    "out_path = path+'results_sim_bq/'\n",
    "#plt.show()\n",
    "if not os.path.exists(out_path):\n",
    "    os.makedirs(out_path)\n",
    "plt.savefig(out_path+'age_author.png')\n",
    "plt.savefig(out_path+'age_author.svg')\n",
    "plt.close()"
   ]
  },
  {
   "cell_type": "markdown",
   "metadata": {},
   "source": [
    "## Article sim"
   ]
  },
  {
   "cell_type": "code",
   "execution_count": 78,
   "metadata": {
    "collapsed": true
   },
   "outputs": [],
   "source": [
    "df_avg = pd.read_csv(path+'avg_sim_articles.csv')"
   ]
  },
  {
   "cell_type": "code",
   "execution_count": 80,
   "metadata": {},
   "outputs": [
    {
     "data": {
      "text/html": [
       "<div>\n",
       "<style>\n",
       "    .dataframe thead tr:only-child th {\n",
       "        text-align: right;\n",
       "    }\n",
       "\n",
       "    .dataframe thead th {\n",
       "        text-align: left;\n",
       "    }\n",
       "\n",
       "    .dataframe tbody tr th {\n",
       "        vertical-align: top;\n",
       "    }\n",
       "</style>\n",
       "<table border=\"1\" class=\"dataframe\">\n",
       "  <thead>\n",
       "    <tr style=\"text-align: right;\">\n",
       "      <th></th>\n",
       "      <th>Type_Cit</th>\n",
       "      <th>group</th>\n",
       "      <th>sim</th>\n",
       "      <th>std_sim</th>\n",
       "      <th>count</th>\n",
       "    </tr>\n",
       "  </thead>\n",
       "  <tbody>\n",
       "    <tr>\n",
       "      <th>0</th>\n",
       "      <td>0</td>\n",
       "      <td>Social Sciences</td>\n",
       "      <td>0.279379</td>\n",
       "      <td>0.177241</td>\n",
       "      <td>21397007</td>\n",
       "    </tr>\n",
       "    <tr>\n",
       "      <th>1</th>\n",
       "      <td>0</td>\n",
       "      <td>Natural Sciences and Engineering</td>\n",
       "      <td>0.273712</td>\n",
       "      <td>0.172080</td>\n",
       "      <td>55367658</td>\n",
       "    </tr>\n",
       "    <tr>\n",
       "      <th>2</th>\n",
       "      <td>0</td>\n",
       "      <td>NaN</td>\n",
       "      <td>0.255094</td>\n",
       "      <td>0.168474</td>\n",
       "      <td>152568</td>\n",
       "    </tr>\n",
       "    <tr>\n",
       "      <th>3</th>\n",
       "      <td>0</td>\n",
       "      <td>Arts and Humanities</td>\n",
       "      <td>0.268641</td>\n",
       "      <td>0.171695</td>\n",
       "      <td>63342</td>\n",
       "    </tr>\n",
       "    <tr>\n",
       "      <th>4</th>\n",
       "      <td>0</td>\n",
       "      <td>Health Sciences</td>\n",
       "      <td>0.297990</td>\n",
       "      <td>0.187042</td>\n",
       "      <td>22585867</td>\n",
       "    </tr>\n",
       "  </tbody>\n",
       "</table>\n",
       "</div>"
      ],
      "text/plain": [
       "   Type_Cit                             group       sim   std_sim     count\n",
       "0         0                   Social Sciences  0.279379  0.177241  21397007\n",
       "1         0  Natural Sciences and Engineering  0.273712  0.172080  55367658\n",
       "2         0                               NaN  0.255094  0.168474    152568\n",
       "3         0               Arts and Humanities  0.268641  0.171695     63342\n",
       "4         0                   Health Sciences  0.297990  0.187042  22585867"
      ]
     },
     "execution_count": 80,
     "metadata": {},
     "output_type": "execute_result"
    }
   ],
   "source": [
    "df_avg.head()"
   ]
  },
  {
   "cell_type": "code",
   "execution_count": 81,
   "metadata": {
    "collapsed": true
   },
   "outputs": [],
   "source": [
    "df_avg['sem'] = np.divide(df_avg['std_sim'],np.sqrt(df_avg['count']))"
   ]
  },
  {
   "cell_type": "code",
   "execution_count": 79,
   "metadata": {
    "collapsed": true
   },
   "outputs": [],
   "source": [
    "colors_groups = [np.array([168,23,36]),\n",
    "         np.array([247,42,49]),\n",
    "         np.array([124,185,0]),\n",
    "         np.array([155,215,23])]\n",
    "colors_groups = [x/255 for x in colors_groups]"
   ]
  },
  {
   "cell_type": "code",
   "execution_count": 83,
   "metadata": {},
   "outputs": [],
   "source": [
    "plt.figure(figsize=(8,8))\n",
    "ax = plt.axes()\n",
    "\n",
    "group = groups[i]\n",
    "x1 = df_avg.loc[(df_avg['group']==groups[0]),['sim','sem','Type_Cit']]\n",
    "x2 = df_avg.loc[(df_avg['group']==groups[1]),['sim','sem','Type_Cit']]\n",
    "x3 = df_avg.loc[(df_avg['group']==groups[2]),['sim','sem','Type_Cit']]\n",
    "x4 = df_avg.loc[(df_avg['group']==groups[3]),['sim','sem','Type_Cit']]\n",
    "\n",
    "\n",
    "\n",
    "\n",
    "kwargs = dict(alpha=1,linewidth=3,marker='.',markersize=15)\n",
    "\n",
    "\n",
    "\n",
    "# plt.errorbar(x1['Type_Cit'],x1['Simmean'], yerr= x1['Simsem'], **kwargs, color=colors_groups[0], label=groups[0])\n",
    "# plt.errorbar(x2['Type_Cit'],x2['Simmean'], yerr= x2['Simsem'],**kwargs, color=colors_groups[1], label=groups[1])\n",
    "# plt.errorbar(x3['Type_Cit'],x3['Simmean'], yerr= x3['Simsem'], **kwargs, color=colors_groups[2], label=groups[2])\n",
    "# plt.errorbar(x4['Type_Cit'],x4['Simmean'], yerr= x4['Simsem'], **kwargs, color=colors_groups[3], label=groups[3])\n",
    "\n",
    "plt.plot(x1['Type_Cit'],x1['sim'],  **kwargs, color=colors_groups[0], label=groups[0])\n",
    "plt.plot(x2['Type_Cit'],x2['sim'], **kwargs, color=colors_groups[1], label=groups[1])\n",
    "plt.plot(x3['Type_Cit'],x3['sim'],  **kwargs, color=colors_groups[2], label=groups[2])\n",
    "plt.plot(x4['Type_Cit'],x4['sim'],  **kwargs, color=colors_groups[3], label=groups[3])\n",
    "\n",
    "# Hide the right and top spines\n",
    "ax.spines['right'].set_visible(False)\n",
    "ax.spines['top'].set_visible(False)\n",
    "\n",
    "# Only show ticks on the left and bottom spines\n",
    "ax.yaxis.set_ticks_position('left')\n",
    "ax.xaxis.set_ticks_position('bottom')\n",
    "\n",
    "\n",
    "#     scale_y = 1e3\n",
    "#     y_vals = ax.get_yticks()\n",
    "#     if i == 0:\n",
    "#         ax.set_yticklabels(['{:.1f}'.format(x /scale_y) for x in y_vals])\n",
    "#     else:\n",
    "#         ax.set_yticklabels(['{:d}'.format(int(x /scale_y)) for x in y_vals])\n",
    "#plt.xlim([1980,2019])\n",
    "#plt.ylim([0.1,0.5])\n",
    "ax.set_xticks([0,1,2])\n",
    "ax.set_xticklabels(['Self','Network','Others'])\n",
    "plt.tick_params(labelsize=20)\n",
    "#plt.title(group,size=25)\n",
    "plt.ylabel('Average similarity')\n",
    "#plt.gca().set(title=disc, ylabel='Frequency')\n",
    "plt.legend()\n",
    "out_path = path+'results_sim_bq/'\n",
    "#plt.show()\n",
    "if not os.path.exists(out_path):\n",
    "    os.makedirs(out_path)\n",
    "plt.savefig(out_path+'sim_avg_per_cit_type.png')\n",
    "plt.savefig(out_path+'sim_avg_per_cit_type.svg')\n",
    "plt.close()"
   ]
  }
 ],
 "metadata": {
  "kernelspec": {
   "display_name": "Python 3",
   "language": "python",
   "name": "python3"
  },
  "language_info": {
   "codemirror_mode": {
    "name": "ipython",
    "version": 3
   },
   "file_extension": ".py",
   "mimetype": "text/x-python",
   "name": "python",
   "nbconvert_exporter": "python",
   "pygments_lexer": "ipython3",
   "version": "3.6.3"
  }
 },
 "nbformat": 4,
 "nbformat_minor": 2
}
