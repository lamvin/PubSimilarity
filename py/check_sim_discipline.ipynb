{
 "cells": [
  {
   "cell_type": "code",
   "execution_count": 1,
   "metadata": {
    "collapsed": true
   },
   "outputs": [],
   "source": [
    "import numpy as np\n",
    "from tables import *\n",
    "import csv\n",
    "from tqdm import tqdm_notebook as tqdm"
   ]
  },
  {
   "cell_type": "code",
   "execution_count": 2,
   "metadata": {
    "collapsed": true
   },
   "outputs": [],
   "source": [
    "info_path = \"/mnt/disks/sdc/data/pub_exp_info.txt\""
   ]
  },
  {
   "cell_type": "code",
   "execution_count": 3,
   "metadata": {
    "collapsed": true
   },
   "outputs": [],
   "source": [
    "\n",
    "disc_map = {}\n",
    "with open(info_path, newline='') as f:\n",
    "    reader = csv.reader(f,delimiter='\\t')\n",
    "    next(reader)\n",
    "    for line in reader:        \n",
    "        Id_Art = int(line[0])\n",
    "        #df.loc[len(df)] = [Id_Art,line[3]]\n",
    "        disc_map[Id_Art] = line[3]"
   ]
  },
  {
   "cell_type": "code",
   "execution_count": 4,
   "metadata": {
    "collapsed": true
   },
   "outputs": [],
   "source": [
    "sim_path = \"/mnt/disks/sdc/data/similarity.h5\""
   ]
  },
  {
   "cell_type": "code",
   "execution_count": 5,
   "metadata": {
    "collapsed": true
   },
   "outputs": [],
   "source": [
    "#years = np.arange(1898,2020)\n",
    "years = np.arange(2010,2020)"
   ]
  },
  {
   "cell_type": "markdown",
   "metadata": {},
   "source": [
    "#### Count size all tables"
   ]
  },
  {
   "cell_type": "code",
   "execution_count": 6,
   "metadata": {
    "collapsed": true
   },
   "outputs": [],
   "source": [
    "h5file_sim = open_file(sim_path, mode=\"r\", title=\"similarity\")\n",
    "nb_lines = {}\n",
    "for year in years:\n",
    "    nb_lines_y = 0\n",
    "    for i in range(10):\n",
    "        table_sim = h5file_sim.get_node('/{}/{}'.format(str(year),i))\n",
    "        nb_lines_y += len(table_sim)\n",
    "    nb_lines[year] = nb_lines_y\n",
    "h5file_sim.close()"
   ]
  },
  {
   "cell_type": "code",
   "execution_count": 6,
   "metadata": {
    "collapsed": true
   },
   "outputs": [],
   "source": [
    "sample_size_table = 1000\n",
    "#art1,art2,sim,disc1,disc2\n",
    "sample = np.full((5,sample_size_table*10*len(years)),np.nan)"
   ]
  },
  {
   "cell_type": "code",
   "execution_count": 7,
   "metadata": {},
   "outputs": [
    {
     "name": "stderr",
     "output_type": "stream",
     "text": [
      "/home/User1/anaconda3/lib/python3.6/site-packages/ipykernel_launcher.py:4: TqdmDeprecationWarning: This function will be removed in tqdm==5.0.0\n",
      "Please use `tqdm.notebook.tqdm` instead of `tqdm.tqdm_notebook`\n",
      "  after removing the cwd from sys.path.\n"
     ]
    },
    {
     "data": {
      "application/vnd.jupyter.widget-view+json": {
       "model_id": "4939411e02c74dcca629a2767e32ba8b",
       "version_major": 2,
       "version_minor": 0
      },
      "text/plain": [
       "A Jupyter Widget"
      ]
     },
     "metadata": {},
     "output_type": "display_data"
    },
    {
     "name": "stdout",
     "output_type": "stream",
     "text": [
      "\n"
     ]
    }
   ],
   "source": [
    "h5file_sim = open_file(sim_path, mode=\"r\", title=\"similarity\")\n",
    "nb_lines = 0\n",
    "sample_count = 0\n",
    "for y in tqdm(range(len(years))):\n",
    "    year = years[y]\n",
    "    for i in range(10):\n",
    "        table_sim = h5file_sim.get_node('/{}/{}'.format(str(year),i))\n",
    "        if len(table_sim)>0:\n",
    "            sample_size_cur = min([sample_size_table,len(table_sim)])\n",
    "            sample_idx = np.unique(np.random.randint(0,len(table_sim),sample_size_cur))\n",
    "            for j in sample_idx:\n",
    "                line = table_sim[j]\n",
    "                sample[:3,sample_count] = [line[0],line[1],line[2]]\n",
    "                sample_count += 1\n",
    "h5file_sim.close()"
   ]
  },
  {
   "cell_type": "code",
   "execution_count": 8,
   "metadata": {
    "collapsed": true
   },
   "outputs": [],
   "source": [
    "list_disc = list(set(disc_map.values()))\n",
    "dict_disc = {x:i for i,x in enumerate(list_disc)}"
   ]
  },
  {
   "cell_type": "code",
   "execution_count": 9,
   "metadata": {},
   "outputs": [
    {
     "name": "stderr",
     "output_type": "stream",
     "text": [
      "/home/User1/anaconda3/lib/python3.6/site-packages/ipykernel_launcher.py:1: TqdmDeprecationWarning: This function will be removed in tqdm==5.0.0\n",
      "Please use `tqdm.notebook.tqdm` instead of `tqdm.tqdm_notebook`\n",
      "  \"\"\"Entry point for launching an IPython kernel.\n"
     ]
    },
    {
     "data": {
      "application/vnd.jupyter.widget-view+json": {
       "model_id": "8f0f9720b6014376a83869e20f336039",
       "version_major": 2,
       "version_minor": 0
      },
      "text/plain": [
       "A Jupyter Widget"
      ]
     },
     "metadata": {},
     "output_type": "display_data"
    },
    {
     "name": "stdout",
     "output_type": "stream",
     "text": [
      "\n"
     ]
    }
   ],
   "source": [
    "for c in tqdm(range(sample.shape[1])):\n",
    "    if ~np.isnan(sample[0,c]):\n",
    "        art1 = int(sample[0,c])\n",
    "        art2 = int(sample[1,c])\n",
    "        if art1 in disc_map.keys():\n",
    "            sample[3,c] = dict_disc[disc_map[art1]]\n",
    "        if art2 in disc_map.keys():\n",
    "            sample[4,c] = dict_disc[disc_map[art2]] \n",
    "        "
   ]
  },
  {
   "cell_type": "code",
   "execution_count": 14,
   "metadata": {
    "collapsed": true
   },
   "outputs": [],
   "source": [
    "nb_disc = len(list_disc)\n",
    "sum_sim = np.zeros((nb_disc,nb_disc))\n",
    "count_sim = np.ones((nb_disc,nb_disc))"
   ]
  },
  {
   "cell_type": "code",
   "execution_count": 15,
   "metadata": {},
   "outputs": [
    {
     "name": "stderr",
     "output_type": "stream",
     "text": [
      "/home/User1/anaconda3/lib/python3.6/site-packages/ipykernel_launcher.py:1: TqdmDeprecationWarning: This function will be removed in tqdm==5.0.0\n",
      "Please use `tqdm.notebook.tqdm` instead of `tqdm.tqdm_notebook`\n",
      "  \"\"\"Entry point for launching an IPython kernel.\n"
     ]
    },
    {
     "data": {
      "application/vnd.jupyter.widget-view+json": {
       "model_id": "d9f727dc83b042bc9976cbdfd0bd8d5e",
       "version_major": 2,
       "version_minor": 0
      },
      "text/plain": [
       "A Jupyter Widget"
      ]
     },
     "metadata": {},
     "output_type": "display_data"
    },
    {
     "name": "stdout",
     "output_type": "stream",
     "text": [
      "\n"
     ]
    }
   ],
   "source": [
    "for c in tqdm(range(sample.shape[1])):\n",
    "    disc1 = sample[3,c]\n",
    "    disc2 = sample[4,c]\n",
    "    if ~np.isnan(disc1) and ~np.isnan(disc2):\n",
    "        disc1 = int(disc1)\n",
    "        disc2 = int(disc2)\n",
    "        idx = np.sort(np.array([disc1,disc2]))\n",
    "        sum_sim[idx[1],idx[0]] += sample[2,c]\n",
    "        count_sim[idx[1],idx[0]] += 1"
   ]
  },
  {
   "cell_type": "code",
   "execution_count": 16,
   "metadata": {
    "collapsed": true
   },
   "outputs": [],
   "source": [
    "avg_sim = np.divide(sum_sim,count_sim)"
   ]
  },
  {
   "cell_type": "code",
   "execution_count": 13,
   "metadata": {},
   "outputs": [
    {
     "data": {
      "text/plain": [
       "{'Acoustics': 115,\n",
       " 'Addictive Diseases': 42,\n",
       " 'Aerospace Technology': 4,\n",
       " 'Agricult & Food Science': 26,\n",
       " 'Allergy': 121,\n",
       " 'Analytical Chemistry': 18,\n",
       " 'Anatomy & Morphology': 23,\n",
       " 'Anesthesiology': 43,\n",
       " 'Anthropology and Archaeology': 129,\n",
       " 'Applied Chemistry': 68,\n",
       " 'Applied Mathematics': 47,\n",
       " 'Applied Physics': 114,\n",
       " 'Area Studies': 105,\n",
       " 'Arthritis & Rheumatology': 85,\n",
       " 'Astronomy & Astrophysics': 59,\n",
       " 'Behavioral Science & Complementary Psychology': 22,\n",
       " 'Biochemistry & Molecular Biology': 81,\n",
       " 'Biomedical Engineering': 34,\n",
       " 'Biophysics': 123,\n",
       " 'Botany': 67,\n",
       " 'Cancer': 138,\n",
       " 'Cardiovascular System': 130,\n",
       " 'Cellular Biology Cytology & Histology': 91,\n",
       " 'Chemical Engineering': 1,\n",
       " 'Chemical Physics': 97,\n",
       " 'Civil Engineering': 19,\n",
       " 'Clinical Psychology': 112,\n",
       " 'Communication': 133,\n",
       " 'Computers': 90,\n",
       " 'Criminology': 25,\n",
       " 'Dairy & Animal Science': 79,\n",
       " 'Demography': 84,\n",
       " 'Dentistry': 94,\n",
       " 'Dermatology & Venerial Disease': 103,\n",
       " 'Developmental & Child Psychology': 78,\n",
       " 'Earth & planetary Science': 16,\n",
       " 'Ecology': 64,\n",
       " 'Economics': 88,\n",
       " 'Education': 137,\n",
       " 'Electrical Engineering & Electronics': 73,\n",
       " 'Embryology': 136,\n",
       " 'Endocrinology': 65,\n",
       " 'Entomology': 49,\n",
       " 'Environmental & Occupational Health': 50,\n",
       " 'Environmental Science': 5,\n",
       " 'Experimental Psychology': 83,\n",
       " 'Fertility': 28,\n",
       " 'Fine Arts & Architecture': 55,\n",
       " 'Fluids & Plasmas': 30,\n",
       " 'Gastroenterology': 15,\n",
       " 'General & Internal Medicine': 116,\n",
       " 'General Biology': 20,\n",
       " 'General Biomedical Research': 51,\n",
       " 'General Chemistry': 36,\n",
       " 'General Engineering': 66,\n",
       " 'General Mathematics': 58,\n",
       " 'General Physics': 99,\n",
       " 'General Psychology': 113,\n",
       " 'General Social Sciences': 118,\n",
       " 'General Zoology': 111,\n",
       " 'Genetics & Heredity': 10,\n",
       " 'Geography': 8,\n",
       " 'Geology': 92,\n",
       " 'Geriatrics': 46,\n",
       " 'Geriatrics & Gerontology': 12,\n",
       " 'Health Policy & Services': 62,\n",
       " 'Hematology': 100,\n",
       " 'History': 40,\n",
       " 'Human Factors': 69,\n",
       " 'Immunology': 74,\n",
       " 'Industrial Engineering': 141,\n",
       " 'Information Science & Library Science': 110,\n",
       " 'Inorganic & Nuclear Chemistry': 98,\n",
       " 'International Relations': 9,\n",
       " 'Language & Linguistics': 3,\n",
       " 'Law': 14,\n",
       " 'Literature': 122,\n",
       " 'Management': 52,\n",
       " 'Marine Biology & Hydrobiology': 107,\n",
       " 'Materials Science': 61,\n",
       " 'Mechanical Engineering': 142,\n",
       " 'Metals & Metallurgy': 119,\n",
       " 'Meteorology & Atmospheric Science': 6,\n",
       " 'Microbiology': 77,\n",
       " 'Microscopy': 70,\n",
       " 'Miscellaneous Biology': 104,\n",
       " 'Miscellaneous Biomedical Research': 57,\n",
       " 'Miscellaneous Clinical Medicine': 17,\n",
       " 'Miscellaneous Engineering & Technology': 11,\n",
       " 'Miscellaneous Humanities': 7,\n",
       " 'Miscellaneous Mathematics': 63,\n",
       " 'Miscellaneous Physics': 86,\n",
       " 'Miscellaneous Professional Field': 87,\n",
       " 'Miscellaneous Psychology': 35,\n",
       " 'Miscellaneous Social Sciences': 120,\n",
       " 'Miscellaneous Zoology': 96,\n",
       " 'Nephrology': 21,\n",
       " 'Neurology & Neurosurgery': 125,\n",
       " 'Nuclear & Particle Physics': 102,\n",
       " 'Nuclear Technology': 72,\n",
       " 'Nursing': 82,\n",
       " 'Nutrition & Dietetic': 27,\n",
       " 'Obstetrics & Gynecology': 134,\n",
       " 'Oceanography & Limnology': 89,\n",
       " 'Operations Research': 117,\n",
       " 'Ophthalmology': 95,\n",
       " 'Optics': 54,\n",
       " 'Organic Chemistry': 127,\n",
       " 'Orthopedics': 135,\n",
       " 'Otorhinolaryngology': 106,\n",
       " 'Parasitology': 76,\n",
       " 'Pathology': 56,\n",
       " 'Pediatrics': 45,\n",
       " 'Performing Arts': 48,\n",
       " 'Pharmacology': 41,\n",
       " 'Pharmacy': 124,\n",
       " 'Philosophy': 75,\n",
       " 'Physical Chemistry': 143,\n",
       " 'Physiology': 32,\n",
       " 'Planning & Urban Studies': 80,\n",
       " 'Political Science and Public Administration': 13,\n",
       " 'Polymers': 132,\n",
       " 'Probability & Statistics': 108,\n",
       " 'Psychiatry': 126,\n",
       " 'Psychoanalysis': 60,\n",
       " 'Public Health': 140,\n",
       " 'Radiology & Nuclear Medicine': 29,\n",
       " 'Rehabilitation': 139,\n",
       " 'Religion': 109,\n",
       " 'Respiratory System': 44,\n",
       " 'Science studies': 38,\n",
       " 'Social Psychology': 128,\n",
       " 'Social Sciences, Biomedical': 39,\n",
       " 'Social Studies of Medicine': 0,\n",
       " 'Social Work': 53,\n",
       " 'Sociology': 131,\n",
       " 'Solid State Physics': 37,\n",
       " 'Speech-Language Pathology and Audiology': 33,\n",
       " 'Surgery': 71,\n",
       " 'Tropical Medicine': 101,\n",
       " 'Unknown': 24,\n",
       " 'Urology': 93,\n",
       " 'Veterinary Medicine': 2,\n",
       " 'Virology': 31}"
      ]
     },
     "execution_count": 13,
     "metadata": {},
     "output_type": "execute_result"
    }
   ],
   "source": [
    "dict_disc"
   ]
  },
  {
   "cell_type": "code",
   "execution_count": 22,
   "metadata": {},
   "outputs": [
    {
     "data": {
      "text/plain": [
       "<matplotlib.figure.Figure at 0x7f30191c35f8>"
      ]
     },
     "metadata": {},
     "output_type": "display_data"
    },
    {
     "data": {
      "image/png": "[encoded data removed]",
      "text/plain": [
       "<matplotlib.figure.Figure at 0x7f300b392eb8>"
      ]
     },
     "metadata": {},
     "output_type": "display_data"
    }
   ],
   "source": [
    "import matplotlib.pyplot as plt\n",
    "fig = plt.figure(figsize=(15,15))\n",
    "im = plt.imshow(avg_sim)\n",
    "fig.tight_layout()\n",
    "plt.show()"
   ]
  },
  {
   "cell_type": "code",
   "execution_count": 18,
   "metadata": {
    "collapsed": true
   },
   "outputs": [],
   "source": [
    "same_sim_disc = np.sum(np.diagonal(sum_sim))\n",
    "same_count_disc = np.sum(np.diagonal(count_sim))\n",
    "diff_sim_disc = np.sum(np.tril(sum_sim,-1))\n",
    "diff_count_disc = np.sum(np.tril(count_sim,-1))"
   ]
  },
  {
   "cell_type": "code",
   "execution_count": 19,
   "metadata": {
    "collapsed": true
   },
   "outputs": [],
   "source": [
    "avg_same_sim = same_sim_disc/same_count_disc\n",
    "avg_diff_sim = diff_sim_disc/diff_count_disc\n"
   ]
  },
  {
   "cell_type": "code",
   "execution_count": 20,
   "metadata": {},
   "outputs": [
    {
     "name": "stdout",
     "output_type": "stream",
     "text": [
      "0.145492019636\n",
      "0.0684492584218\n"
     ]
    }
   ],
   "source": [
    "print(avg_same_sim)\n",
    "print(avg_diff_sim)"
   ]
  },
  {
   "cell_type": "markdown",
   "metadata": {},
   "source": [
    "## Check tfidf"
   ]
  },
  {
   "cell_type": "code",
   "execution_count": 129,
   "metadata": {
    "collapsed": true
   },
   "outputs": [],
   "source": [
    "from gensim.corpora import MmCorpus, Dictionary\n",
    "tfidf_path = \"/mnt/disks/sdb/data/pub_full_tfidf.mm\"\n",
    "mm_tfidf = MmCorpus(tfidf_path)"
   ]
  },
  {
   "cell_type": "code",
   "execution_count": 131,
   "metadata": {
    "collapsed": true
   },
   "outputs": [],
   "source": [
    "data_path = \"/mnt/disks/sdb/data/pub_full.h5\"\n",
    "h5file_data = open_file(data_path, mode=\"r\", title=\"pub_sample\")\n",
    "table_data = h5file_data.root.pub_exp.sample"
   ]
  },
  {
   "cell_type": "code",
   "execution_count": 132,
   "metadata": {},
   "outputs": [
    {
     "name": "stdout",
     "output_type": "stream",
     "text": [
      "[(0, 0.291660451499), (13, 0.0704770509683), (17, 0.115141555998), (27, 0.136356684328), (28, 0.208353964483), (29, 0.166076303383), (30, 0.125427129809), (31, 0.495431516264), (32, 0.157517860311), (33, 0.145579496286), (34, 0.189867689949), (35, 0.132734907101), (36, 0.104678136994), (37, 0.200249846366), (38, 0.253248369647), (39, 0.267538891246), (40, 0.237884197423), (41, 0.172846669776), (42, 0.134397856085), (43, 0.0589358038856), (44, 0.125158628984), (45, 0.0893822294036), (46, 0.0833042403752), (47, 0.330877526707), (48, 0.0762872323471), (49, 0.0748484564886)]\n",
      "[b'paper deal problem automat design data process algorithm  method suggest optim amount input data comut  basic model system function depend made set element set function defin determinist connect element  algorithm design composit function set', 9416634, 1]\n"
     ]
    }
   ],
   "source": [
    "i = 1\n",
    "tfidf_test = mm_tfidf[i]\n",
    "text = [table_data[i][0],table_data[i][1],table_data[i][2]]\n",
    "print(tfidf_test)\n",
    "print(text)"
   ]
  },
  {
   "cell_type": "code",
   "execution_count": 133,
   "metadata": {
    "collapsed": true
   },
   "outputs": [],
   "source": [
    "dict_path = \"/mnt/disks/sdb/data/dct.p\"\n",
    "dictionary = Dictionary.load(dict_path)"
   ]
  },
  {
   "cell_type": "code",
   "execution_count": 142,
   "metadata": {
    "collapsed": true
   },
   "outputs": [],
   "source": [
    "tokens = text[0].decode(\"utf-8\").split()"
   ]
  },
  {
   "cell_type": "code",
   "execution_count": 144,
   "metadata": {},
   "outputs": [
    {
     "name": "stdout",
     "output_type": "stream",
     "text": [
      "[(0, 2), (13, 1), (17, 1), (27, 1), (28, 1), (29, 1), (30, 1), (31, 1), (32, 1), (33, 2), (34, 1), (35, 1), (36, 1), (37, 2), (38, 1), (39, 2), (40, 3), (41, 1), (42, 1), (43, 1), (44, 1), (45, 1), (46, 1), (47, 3), (48, 1), (49, 1)]\n"
     ]
    }
   ],
   "source": [
    "print(dictionary.doc2bow(tokens))"
   ]
  },
  {
   "cell_type": "code",
   "execution_count": 143,
   "metadata": {},
   "outputs": [
    {
     "data": {
      "text/plain": [
       "['paper',\n",
       " 'deal',\n",
       " 'problem',\n",
       " 'automat',\n",
       " 'design',\n",
       " 'data',\n",
       " 'process',\n",
       " 'algorithm',\n",
       " 'method',\n",
       " 'suggest',\n",
       " 'optim',\n",
       " 'amount',\n",
       " 'input',\n",
       " 'data',\n",
       " 'comut',\n",
       " 'basic',\n",
       " 'model',\n",
       " 'system',\n",
       " 'function',\n",
       " 'depend',\n",
       " 'made',\n",
       " 'set',\n",
       " 'element',\n",
       " 'set',\n",
       " 'function',\n",
       " 'defin',\n",
       " 'determinist',\n",
       " 'connect',\n",
       " 'element',\n",
       " 'algorithm',\n",
       " 'design',\n",
       " 'composit',\n",
       " 'function',\n",
       " 'set']"
      ]
     },
     "execution_count": 143,
     "metadata": {},
     "output_type": "execute_result"
    }
   ],
   "source": [
    "tokens"
   ]
  }
 ],
 "metadata": {
  "kernelspec": {
   "display_name": "Python 3",
   "language": "python",
   "name": "python3"
  },
  "language_info": {
   "codemirror_mode": {
    "name": "ipython",
    "version": 3
   },
   "file_extension": ".py",
   "mimetype": "text/x-python",
   "name": "python",
   "nbconvert_exporter": "python",
   "pygments_lexer": "ipython3",
   "version": "3.6.3"
  }
 },
 "nbformat": 4,
 "nbformat_minor": 2
}
