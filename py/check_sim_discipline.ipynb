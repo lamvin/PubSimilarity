{
 "cells": [
  {
   "cell_type": "code",
   "execution_count": 1,
   "metadata": {
    "collapsed": true
   },
   "outputs": [],
   "source": [
    "import numpy as np\n",
    "from tables import *\n",
    "import csv\n",
    "from tqdm import tqdm_notebook as tqdm"
   ]
  },
  {
   "cell_type": "code",
   "execution_count": 2,
   "metadata": {
    "collapsed": true
   },
   "outputs": [],
   "source": [
    "sim_path = \"/mnt/disks/sdc/data/similarity.h5\""
   ]
  },
  {
   "cell_type": "code",
   "execution_count": 3,
   "metadata": {
    "collapsed": true
   },
   "outputs": [],
   "source": [
    "#years = np.arange(1898,2020)\n",
    "years = np.arange(2010,2020)"
   ]
  },
  {
   "cell_type": "markdown",
   "metadata": {},
   "source": [
    "#### Count size all tables"
   ]
  },
  {
   "cell_type": "code",
   "execution_count": 6,
   "metadata": {
    "collapsed": true
   },
   "outputs": [],
   "source": [
    "h5file_sim = open_file(sim_path, mode=\"r\", title=\"similarity\")\n",
    "nb_lines = {}\n",
    "for year in years:\n",
    "    nb_lines_y = 0\n",
    "    for i in range(10):\n",
    "        table_sim = h5file_sim.get_node('/{}/{}'.format(str(year),i))\n",
    "        nb_lines_y += len(table_sim)\n",
    "    nb_lines[year] = nb_lines_y\n",
    "h5file_sim.close()"
   ]
  },
  {
   "cell_type": "code",
   "execution_count": 14,
   "metadata": {},
   "outputs": [],
   "source": [
    "h5file_sim = open_file(sim_path, mode=\"r\", title=\"similarity\")\n",
    "nb_lines = {x:0 for x in range(10)}\n",
    "for year in [2018]:#in years:\n",
    "    for i in range(10):\n",
    "        table_sim = h5file_sim.get_node('/{}/{}'.format(str(year),i))\n",
    "        nb_lines[i] += len(table_sim)\n",
    "h5file_sim.close()"
   ]
  },
  {
   "cell_type": "code",
   "execution_count": 15,
   "metadata": {},
   "outputs": [
    {
     "data": {
      "text/plain": [
       "{0: 0, 1: 0, 2: 0, 3: 0, 4: 0, 5: 0, 6: 1535799350, 7: 0, 8: 0, 9: 0}"
      ]
     },
     "execution_count": 15,
     "metadata": {},
     "output_type": "execute_result"
    }
   ],
   "source": [
    "nb_lines"
   ]
  },
  {
   "cell_type": "code",
   "execution_count": 105,
   "metadata": {
    "collapsed": true
   },
   "outputs": [],
   "source": [
    "sample_size_table = 10000\n",
    "#art1,art2,sim,disc1,disc2\n",
    "sample = np.full((5,sample_size_table*10*len(years)),np.nan)"
   ]
  },
  {
   "cell_type": "code",
   "execution_count": 106,
   "metadata": {},
   "outputs": [
    {
     "name": "stderr",
     "output_type": "stream",
     "text": [
      "/home/User1/anaconda3/lib/python3.6/site-packages/ipykernel_launcher.py:5: TqdmDeprecationWarning: This function will be removed in tqdm==5.0.0\n",
      "Please use `tqdm.notebook.tqdm` instead of `tqdm.tqdm_notebook`\n",
      "  \"\"\"\n"
     ]
    },
    {
     "data": {
      "application/vnd.jupyter.widget-view+json": {
       "model_id": "453be1a66b004440a48d74e9ba84385e",
       "version_major": 2,
       "version_minor": 0
      },
      "text/plain": [
       "A Jupyter Widget"
      ]
     },
     "metadata": {},
     "output_type": "display_data"
    },
    {
     "name": "stdout",
     "output_type": "stream",
     "text": [
      "\n"
     ]
    },
    {
     "data": {
      "application/vnd.jupyter.widget-view+json": {
       "model_id": "2370ac2542b745a994dc5faabb3213b2",
       "version_major": 2,
       "version_minor": 0
      },
      "text/plain": [
       "A Jupyter Widget"
      ]
     },
     "metadata": {},
     "output_type": "display_data"
    },
    {
     "name": "stdout",
     "output_type": "stream",
     "text": [
      "\n"
     ]
    }
   ],
   "source": [
    "h5file_sim = open_file(sim_path, mode=\"r\", title=\"similarity\")\n",
    "nb_lines = 0\n",
    "sample_count = 0\n",
    "for year in years:\n",
    "    for i in tqdm(range(10)):\n",
    "        table_sim = h5file_sim.get_node('/{}/{}'.format(str(year),i))\n",
    "        if len(table_sim)>0:\n",
    "            sample_size_cur = min([sample_size_table,len(table_sim)])\n",
    "            sample_idx = np.random.choice(len(table_sim),sample_size_cur,replace=False)\n",
    "            for j in sample_idx:\n",
    "                line = table_sim[j]\n",
    "                sample[:3,sample_count] = [line[0],line[1],line[2]]\n",
    "                sample_count += 1\n",
    "h5file_sim.close()"
   ]
  },
  {
   "cell_type": "code",
   "execution_count": 33,
   "metadata": {
    "collapsed": true
   },
   "outputs": [],
   "source": [
    "info_path = \"/mnt/disks/sdb/data/pub_exp_info.txt\""
   ]
  },
  {
   "cell_type": "code",
   "execution_count": 68,
   "metadata": {
    "collapsed": true
   },
   "outputs": [],
   "source": [
    "disc_map = {}\n",
    "with open(info_path, newline='') as f:\n",
    "    reader = csv.reader(f,delimiter='\\t', quoting=csv.QUOTE_NONE)\n",
    "    next(reader)\n",
    "    for line in reader:        \n",
    "        Id_Art = int(line[0])\n",
    "        disc_map[Id_Art] = line[1]"
   ]
  },
  {
   "cell_type": "code",
   "execution_count": 42,
   "metadata": {
    "collapsed": true
   },
   "outputs": [],
   "source": [
    "list_disc = list(set(disc_map.values()))\n",
    "dict_disc = {x:i for i,x in enumerate(list_disc)}"
   ]
  },
  {
   "cell_type": "code",
   "execution_count": 107,
   "metadata": {},
   "outputs": [
    {
     "name": "stderr",
     "output_type": "stream",
     "text": [
      "/home/User1/anaconda3/lib/python3.6/site-packages/ipykernel_launcher.py:1: TqdmDeprecationWarning: This function will be removed in tqdm==5.0.0\n",
      "Please use `tqdm.notebook.tqdm` instead of `tqdm.tqdm_notebook`\n",
      "  \"\"\"Entry point for launching an IPython kernel.\n"
     ]
    },
    {
     "data": {
      "application/vnd.jupyter.widget-view+json": {
       "model_id": "6928a9a802cb473e8cd401c20eb97823",
       "version_major": 2,
       "version_minor": 0
      },
      "text/plain": [
       "A Jupyter Widget"
      ]
     },
     "metadata": {},
     "output_type": "display_data"
    },
    {
     "name": "stdout",
     "output_type": "stream",
     "text": [
      "\n"
     ]
    }
   ],
   "source": [
    "for c in tqdm(range(sample.shape[1])):\n",
    "    if ~np.isnan(sample[0,c]):\n",
    "        art1 = int(sample[0,c])\n",
    "        art2 = int(sample[1,c])\n",
    "        if art1 in disc_map.keys():\n",
    "            sample[3,c] = dict_disc[disc_map[art1]]\n",
    "        if art2 in disc_map.keys():\n",
    "            sample[4,c] = dict_disc[disc_map[art2]] \n",
    "        "
   ]
  },
  {
   "cell_type": "code",
   "execution_count": 108,
   "metadata": {
    "collapsed": true
   },
   "outputs": [],
   "source": [
    "nb_disc = len(list_disc)\n",
    "sum_sim = np.zeros((nb_disc,nb_disc))\n",
    "count_sim = np.zeros((nb_disc,nb_disc))"
   ]
  },
  {
   "cell_type": "code",
   "execution_count": 109,
   "metadata": {},
   "outputs": [
    {
     "name": "stderr",
     "output_type": "stream",
     "text": [
      "/home/User1/anaconda3/lib/python3.6/site-packages/ipykernel_launcher.py:1: TqdmDeprecationWarning: This function will be removed in tqdm==5.0.0\n",
      "Please use `tqdm.notebook.tqdm` instead of `tqdm.tqdm_notebook`\n",
      "  \"\"\"Entry point for launching an IPython kernel.\n"
     ]
    },
    {
     "data": {
      "application/vnd.jupyter.widget-view+json": {
       "model_id": "858e25e7b5d84e478e7854c5c1bef898",
       "version_major": 2,
       "version_minor": 0
      },
      "text/plain": [
       "A Jupyter Widget"
      ]
     },
     "metadata": {},
     "output_type": "display_data"
    },
    {
     "name": "stdout",
     "output_type": "stream",
     "text": [
      "\n"
     ]
    }
   ],
   "source": [
    "for c in tqdm(range(sample.shape[1])):\n",
    "    disc1 = sample[3,c]\n",
    "    disc2 = sample[4,c]\n",
    "    if ~np.isnan(disc1) and ~np.isnan(disc2):\n",
    "        disc1 = int(disc1)\n",
    "        disc2 = int(disc2)\n",
    "        idx = np.sort(np.array([disc1,disc2]))\n",
    "        sum_sim[idx[1],idx[0]] += sample[2,c]\n",
    "        count_sim[idx[1],idx[0]] += 1"
   ]
  },
  {
   "cell_type": "code",
   "execution_count": 113,
   "metadata": {
    "collapsed": true
   },
   "outputs": [],
   "source": [
    "avg_sim = np.divide(sum_sim,count_sim)"
   ]
  },
  {
   "cell_type": "code",
   "execution_count": 117,
   "metadata": {},
   "outputs": [
    {
     "data": {
      "text/plain": [
       "{'Arts': 2,\n",
       " 'Biology': 1,\n",
       " 'Biomedical Research': 7,\n",
       " 'Chemistry': 10,\n",
       " 'Clinical Medicine': 9,\n",
       " 'Earth and Space': 11,\n",
       " 'Engineering and Technology': 12,\n",
       " 'Health': 14,\n",
       " 'Humanities': 6,\n",
       " 'Mathematics': 13,\n",
       " 'Physics': 3,\n",
       " 'Professional Fields': 5,\n",
       " 'Psychology': 8,\n",
       " 'Social Sciences': 4,\n",
       " 'Unknown': 0}"
      ]
     },
     "execution_count": 117,
     "metadata": {},
     "output_type": "execute_result"
    }
   ],
   "source": [
    "dict_disc"
   ]
  },
  {
   "cell_type": "code",
   "execution_count": 114,
   "metadata": {},
   "outputs": [
    {
     "data": {
      "image/png": "[encoded data removed]",
      "text/plain": [
       "<matplotlib.figure.Figure at 0x7f1f82ffe7f0>"
      ]
     },
     "metadata": {},
     "output_type": "display_data"
    }
   ],
   "source": [
    "import matplotlib.pyplot as plt\n",
    "fig, ax = plt.subplots()\n",
    "im = ax.imshow(avg_sim)\n",
    "fig.tight_layout()\n",
    "plt.show()"
   ]
  },
  {
   "cell_type": "code",
   "execution_count": 120,
   "metadata": {
    "collapsed": true
   },
   "outputs": [],
   "source": [
    "same_sim_disc = np.sum(np.diagonal(sum_sim))\n",
    "same_count_disc = np.sum(np.diagonal(count_sim))\n",
    "diff_sim_disc = np.sum(np.tril(sum_sim,-1))\n",
    "diff_count_disc = np.sum(np.tril(count_sim,-1))"
   ]
  },
  {
   "cell_type": "code",
   "execution_count": 123,
   "metadata": {
    "collapsed": true
   },
   "outputs": [],
   "source": [
    "avg_same_sim = same_sim_disc/same_count_disc\n",
    "avg_diff_sim = diff_sim_disc/diff_count_disc\n"
   ]
  },
  {
   "cell_type": "markdown",
   "metadata": {},
   "source": [
    "## Check tfidf"
   ]
  },
  {
   "cell_type": "code",
   "execution_count": 129,
   "metadata": {
    "collapsed": true
   },
   "outputs": [],
   "source": [
    "from gensim.corpora import MmCorpus, Dictionary\n",
    "tfidf_path = \"/mnt/disks/sdb/data/pub_full_tfidf.mm\"\n",
    "mm_tfidf = MmCorpus(tfidf_path)"
   ]
  },
  {
   "cell_type": "code",
   "execution_count": 131,
   "metadata": {
    "collapsed": true
   },
   "outputs": [],
   "source": [
    "data_path = \"/mnt/disks/sdb/data/pub_full.h5\"\n",
    "h5file_data = open_file(data_path, mode=\"r\", title=\"pub_sample\")\n",
    "table_data = h5file_data.root.pub_exp.sample"
   ]
  },
  {
   "cell_type": "code",
   "execution_count": 132,
   "metadata": {},
   "outputs": [
    {
     "name": "stdout",
     "output_type": "stream",
     "text": [
      "[(0, 0.291660451499), (13, 0.0704770509683), (17, 0.115141555998), (27, 0.136356684328), (28, 0.208353964483), (29, 0.166076303383), (30, 0.125427129809), (31, 0.495431516264), (32, 0.157517860311), (33, 0.145579496286), (34, 0.189867689949), (35, 0.132734907101), (36, 0.104678136994), (37, 0.200249846366), (38, 0.253248369647), (39, 0.267538891246), (40, 0.237884197423), (41, 0.172846669776), (42, 0.134397856085), (43, 0.0589358038856), (44, 0.125158628984), (45, 0.0893822294036), (46, 0.0833042403752), (47, 0.330877526707), (48, 0.0762872323471), (49, 0.0748484564886)]\n",
      "[b'paper deal problem automat design data process algorithm  method suggest optim amount input data comut  basic model system function depend made set element set function defin determinist connect element  algorithm design composit function set', 9416634, 1]\n"
     ]
    }
   ],
   "source": [
    "i = 1\n",
    "tfidf_test = mm_tfidf[i]\n",
    "text = [table_data[i][0],table_data[i][1],table_data[i][2]]\n",
    "print(tfidf_test)\n",
    "print(text)"
   ]
  },
  {
   "cell_type": "code",
   "execution_count": 133,
   "metadata": {
    "collapsed": true
   },
   "outputs": [],
   "source": [
    "dict_path = \"/mnt/disks/sdb/data/dct.p\"\n",
    "dictionary = Dictionary.load(dict_path)"
   ]
  },
  {
   "cell_type": "code",
   "execution_count": 142,
   "metadata": {
    "collapsed": true
   },
   "outputs": [],
   "source": [
    "tokens = text[0].decode(\"utf-8\").split()"
   ]
  },
  {
   "cell_type": "code",
   "execution_count": 144,
   "metadata": {},
   "outputs": [
    {
     "name": "stdout",
     "output_type": "stream",
     "text": [
      "[(0, 2), (13, 1), (17, 1), (27, 1), (28, 1), (29, 1), (30, 1), (31, 1), (32, 1), (33, 2), (34, 1), (35, 1), (36, 1), (37, 2), (38, 1), (39, 2), (40, 3), (41, 1), (42, 1), (43, 1), (44, 1), (45, 1), (46, 1), (47, 3), (48, 1), (49, 1)]\n"
     ]
    }
   ],
   "source": [
    "print(dictionary.doc2bow(tokens))"
   ]
  },
  {
   "cell_type": "code",
   "execution_count": 143,
   "metadata": {},
   "outputs": [
    {
     "data": {
      "text/plain": [
       "['paper',\n",
       " 'deal',\n",
       " 'problem',\n",
       " 'automat',\n",
       " 'design',\n",
       " 'data',\n",
       " 'process',\n",
       " 'algorithm',\n",
       " 'method',\n",
       " 'suggest',\n",
       " 'optim',\n",
       " 'amount',\n",
       " 'input',\n",
       " 'data',\n",
       " 'comut',\n",
       " 'basic',\n",
       " 'model',\n",
       " 'system',\n",
       " 'function',\n",
       " 'depend',\n",
       " 'made',\n",
       " 'set',\n",
       " 'element',\n",
       " 'set',\n",
       " 'function',\n",
       " 'defin',\n",
       " 'determinist',\n",
       " 'connect',\n",
       " 'element',\n",
       " 'algorithm',\n",
       " 'design',\n",
       " 'composit',\n",
       " 'function',\n",
       " 'set']"
      ]
     },
     "execution_count": 143,
     "metadata": {},
     "output_type": "execute_result"
    }
   ],
   "source": [
    "tokens"
   ]
  }
 ],
 "metadata": {
  "kernelspec": {
   "display_name": "Python 3",
   "language": "python",
   "name": "python3"
  },
  "language_info": {
   "codemirror_mode": {
    "name": "ipython",
    "version": 3
   },
   "file_extension": ".py",
   "mimetype": "text/x-python",
   "name": "python",
   "nbconvert_exporter": "python",
   "pygments_lexer": "ipython3",
   "version": "3.6.3"
  }
 },
 "nbformat": 4,
 "nbformat_minor": 2
}
