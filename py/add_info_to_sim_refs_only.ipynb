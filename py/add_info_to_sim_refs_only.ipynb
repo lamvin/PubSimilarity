{
 "cells": [
  {
   "cell_type": "code",
   "execution_count": 1,
   "metadata": {
    "collapsed": true
   },
   "outputs": [],
   "source": [
    "import pandas as pd\n",
    "from tables import *\n",
    "import csv\n",
    "import numpy as np\n",
    "import pickle\n",
    "import time\n",
    "from scipy import sparse\n",
    "from tqdm import tqdm_notebook as tqdm\n",
    "#import multiprocessing as mp\n"
   ]
  },
  {
   "cell_type": "markdown",
   "metadata": {
    "collapsed": true
   },
   "source": [
    "def get_type(inqueue):\n",
    "    try:\n",
    "        for args_child in iter(inqueue.get,sentinel): \n",
    "            art_citant = args_child[0]\n",
    "            art_cite = args_child[1]\n",
    "            networks_citant = args_child[2]\n",
    "            authors_citant = set(args_child[3])\n",
    "            authors_cite = set(args_child[4])\n",
    "            year_citant = args_child[5]\n",
    "            start_time = args_child[6]\n",
    "            out_path = args_child[7]\n",
    "            sim = args_child[8]\n",
    "            nb_citations = args_child[9]\n",
    "\n",
    "            for aut_citant in authors_citant:\n",
    "                if aut_citant in authors_cite:\n",
    "                    type_cit = 0\n",
    "                else:\n",
    "                    if aut_citant in networks_citant:\n",
    "                        network = networks_citant[aut_citant]\n",
    "                        year_network = set(network[0,np.where(network[1,:]<=year_citant)[0]])\n",
    "                        int_network = year_network.intersection(authors_cite)\n",
    "                        if len(int_network) > 0:\n",
    "                            type_cit = 1\n",
    "                        else:\n",
    "                            type_cit = 2\n",
    "                    else:\n",
    "                        type_cit = 2\n",
    "\n",
    "                while True:\n",
    "                    id_out = 0\n",
    "                    try:\n",
    "                        with open('{}output_{}.txt'.format(out_path,id_out),'a') as f:\n",
    "                            #Citant,Cite,Sim,Typecit,AutCitant\n",
    "                            f.write('{0},{1},{2:.4f},{3},{4}\\n'.format(art_citant,art_cite,sim,type_cit,aut_citant))\n",
    "                        break\n",
    "                    except IOError:\n",
    "                        id_out += 1\n",
    "\n",
    "            elapsed_time = time.time() - start_time\n",
    "            elapsed_time_h = np.round(elapsed_time/3600,2)\n",
    "            while True:\n",
    "                try:\n",
    "                    with open('{}/progress.txt'.format(out_path), \"r+\") as f:\n",
    "                        d = f.readlines()\n",
    "                        line = d[0]\n",
    "                        count = int(line.split('/')[0]) + 1\n",
    "                        f.seek(0)\n",
    "                        f.write('{}/{} lines, Time since start: {}, Queue size:{}\\n'.format(count,nb_citations,elapsed_time_h,inqueue.qsize()))\n",
    "                        f.truncate()\n",
    "                        break\n",
    "                except IOError:\n",
    "                    time.sleep(0.01)\n",
    "    except Exception as e:\n",
    "         with open('{}error.txt'.format(out_path),'w') as f:\n",
    "                f.write(str(e))"
   ]
  },
  {
   "cell_type": "markdown",
   "metadata": {
    "collapsed": true,
    "scrolled": false
   },
   "source": [
    "num_processes = mp.cpu_count()-1\n",
    "sentinel = None\n",
    "inqueue = mp.Queue()\n",
    "jobs = []\n",
    "\n",
    "for i in range(num_processes):\n",
    "    p = mp.Process(target=get_type, args=(inqueue,))\n",
    "    jobs.append(p)\n",
    "    p.start()"
   ]
  },
  {
   "cell_type": "code",
   "execution_count": 2,
   "metadata": {
    "collapsed": true
   },
   "outputs": [],
   "source": [
    "path = \"/mnt/disks/sdc/data/\"\n"
   ]
  },
  {
   "cell_type": "code",
   "execution_count": 3,
   "metadata": {
    "collapsed": true
   },
   "outputs": [],
   "source": [
    "articles = {}\n",
    "with open(path+'article.txt','r') as f:\n",
    "    reader = csv.reader(f,delimiter='\\t')\n",
    "    next(reader)\n",
    "    for line in reader:\n",
    "        articles[int(line[0])] = int(line[2])"
   ]
  },
  {
   "cell_type": "code",
   "execution_count": 4,
   "metadata": {
    "collapsed": true
   },
   "outputs": [],
   "source": [
    "with open(path+'dict_cite.p','rb') as f:\n",
    "    dict_cite = pickle.load(f)\n"
   ]
  },
  {
   "cell_type": "code",
   "execution_count": 5,
   "metadata": {
    "collapsed": true
   },
   "outputs": [],
   "source": [
    "with open(path+'dict_citant.p','rb') as f:\n",
    "    dict_citant = pickle.load(f)"
   ]
  },
  {
   "cell_type": "code",
   "execution_count": 6,
   "metadata": {
    "collapsed": true
   },
   "outputs": [],
   "source": [
    "with open(path+'dict_cluster_art.p','rb') as f:\n",
    "    dict_cluster_art = pickle.load(f)"
   ]
  },
  {
   "cell_type": "code",
   "execution_count": 7,
   "metadata": {
    "collapsed": true
   },
   "outputs": [],
   "source": [
    "with open(path+'dict_cluster_ID.p','rb') as f:\n",
    "    dict_cluster_ID = pickle.load(f)"
   ]
  },
  {
   "cell_type": "code",
   "execution_count": 4,
   "metadata": {
    "collapsed": true
   },
   "outputs": [],
   "source": [
    "nb_aut_art = [len(dict_cluster_ID[x]) for x in dict_cluster_ID]"
   ]
  },
  {
   "cell_type": "code",
   "execution_count": 5,
   "metadata": {},
   "outputs": [
    {
     "data": {
      "text/plain": [
       "181362572"
      ]
     },
     "execution_count": 5,
     "metadata": {},
     "output_type": "execute_result"
    }
   ],
   "source": [
    "sum(nb_aut_art)"
   ]
  },
  {
   "cell_type": "code",
   "execution_count": 8,
   "metadata": {
    "collapsed": true
   },
   "outputs": [],
   "source": [
    "with open(path+'authors_disc.p','rb') as f:\n",
    "    authors_disc_idx = pickle.load(f)\n",
    "list_disciplines = list(authors_disc_idx.keys())\n",
    "nb_disciplines = len(list_disciplines)"
   ]
  },
  {
   "cell_type": "markdown",
   "metadata": {
    "collapsed": true
   },
   "source": [
    "authors_info = {}\n",
    "with open(path+'authors_info.csv','r') as f:\n",
    "    reader = csv.reader(f,delimiter='\\t')\n",
    "    next(reader)\n",
    "    for line in reader:\n",
    "        authors_info[int(line[0])] = [line[1],int(line[2])]"
   ]
  },
  {
   "cell_type": "code",
   "execution_count": null,
   "metadata": {
    "collapsed": true
   },
   "outputs": [],
   "source": [
    "import time"
   ]
  },
  {
   "cell_type": "code",
   "execution_count": null,
   "metadata": {
    "collapsed": true
   },
   "outputs": [],
   "source": [
    "with open(path+'IDs_network.p','rb') as f:\n",
    "    IDs_network = pickle.load(f)\n",
    "authors_network = {}\n",
    "count = 0\n",
    "with open(path+'author_network.npy','rb') as f:\n",
    "    while True:\n",
    "        try:\n",
    "            authors_network[IDs_network[count]] = np.load(f)\n",
    "            count += 1\n",
    "        except Exception:\n",
    "            break\n",
    "del IDs_network\n"
   ]
  },
  {
   "cell_type": "markdown",
   "metadata": {},
   "source": [
    "### Type cit only"
   ]
  },
  {
   "cell_type": "code",
   "execution_count": null,
   "metadata": {
    "collapsed": true
   },
   "outputs": [],
   "source": [
    "authors = list(dict_cluster_ID.keys())\n",
    "nb_authors = len(authors)\n",
    "idx = np.arange(nb_authors)\n",
    "np.random.shuffle(idx)"
   ]
  },
  {
   "cell_type": "code",
   "execution_count": null,
   "metadata": {
    "collapsed": true
   },
   "outputs": [],
   "source": [
    "f1 = open(path+'progress.txt','w')\n",
    "count = 0\n",
    "start_time = time.time()\n",
    "with open(path+\"type_ref_table.csv\",'w') as f2:\n",
    "    f2.write('ID_Citant,ID_Cite,Aut_Citant,Type_Cit\\n')\n",
    "    for i in range(nb_authors):\n",
    "        count += 1\n",
    "        author_ID = authors[idx[i]]\n",
    "        arts_author = dict_cluster_ID[author_ID]\n",
    "        if author_ID in authors_network:\n",
    "            network = authors_network[author_ID]\n",
    "            years_net = np.unique(network[1,:])\n",
    "            dict_network = {}\n",
    "            for year in years_net:\n",
    "                dict_network[year] = set(network[0,np.where(network[1,:]<=year)[0]])\n",
    "        else:\n",
    "            dict_network = None\n",
    "        for art_citant in arts_author:\n",
    "            year_citant = articles[art_citant]\n",
    "            if art_citant in dict_citant:\n",
    "                arts_cite = dict_citant[art_citant]\n",
    "                for art_cite in arts_cite:\n",
    "                    if art_cite in dict_cluster_art:\n",
    "                        authors_cite = set(dict_cluster_art[art_cite])\n",
    "                        if author_ID in authors_cite:\n",
    "                            type_cit = 0\n",
    "                        else:\n",
    "                            if dict_network:\n",
    "                                id_years = years_net[np.where(years_net<=year_citant)[0]]\n",
    "                                if len(id_years) > 0:\n",
    "                                    year_network = np.max(id_years)\n",
    "                                    network = dict_network[year_network]\n",
    "                                    if len(authors_cite.intersection(network)) > 0:\n",
    "                                        type_cit = 1\n",
    "                                    else:\n",
    "                                        type_cit = 2\n",
    "                                else:\n",
    "                                    type_cit = 2\n",
    "                            else:\n",
    "                                type_cit = 2\n",
    "                        f2.write('{},{},{},{}\\n'.format(int(art_citant),int(art_cite),int(author_ID),type_cit))\n",
    "            \n",
    "        if count % 1000 == 1 :\n",
    "            elapsed_time = time.time() - start_time\n",
    "            elapsed_time_h = np.round(elapsed_time/3600,2)\n",
    "            time_per_art = elapsed_time/count\n",
    "            time_left_h = np.round(time_per_art*(nb_authors-count)/3600,2)\n",
    "            perc = np.round(count/nb_authors*100,3)\n",
    "            f1.write('Progress: {} authors, {}%, Time since start: {}, Time left: {}\\n'.format(count,perc,elapsed_time_h,time_left_h))    \n",
    "            f1.flush()"
   ]
  },
  {
   "cell_type": "markdown",
   "metadata": {},
   "source": [
    "### From refs table"
   ]
  },
  {
   "cell_type": "code",
   "execution_count": 7,
   "metadata": {
    "collapsed": true
   },
   "outputs": [],
   "source": [
    "h5file_sim = open_file(path + 'similarity_refs_only.h5', mode=\"r\", title=\"similarity\")\n",
    "table_sim = h5file_sim.root.citations.sim\n",
    "nb_citations = len(table_sim)\n"
   ]
  },
  {
   "cell_type": "code",
   "execution_count": 9,
   "metadata": {
    "collapsed": true
   },
   "outputs": [],
   "source": [
    "citations = range(nb_citations)\n",
    "idx = np.arange(nb_citations)\n",
    "np.random.shuffle(idx)\n",
    "total_iterations = nb_citations"
   ]
  },
  {
   "cell_type": "code",
   "execution_count": 13,
   "metadata": {
    "collapsed": true
   },
   "outputs": [],
   "source": [
    "import shutil\n",
    "import os"
   ]
  },
  {
   "cell_type": "code",
   "execution_count": 14,
   "metadata": {
    "collapsed": true
   },
   "outputs": [],
   "source": [
    "out_path = \"/mnt/disks/sdc/data/type_cit/\""
   ]
  },
  {
   "cell_type": "code",
   "execution_count": 15,
   "metadata": {
    "collapsed": true
   },
   "outputs": [],
   "source": [
    "shutil.rmtree(out_path)"
   ]
  },
  {
   "cell_type": "markdown",
   "metadata": {},
   "source": [
    "if not os.path.exists(out_path):\n",
    "    os.makedirs(out_path)\n",
    "\n",
    "with open('{}/progress.txt'.format(out_path),'w') as f:\n",
    "    f.write('{}/{} lines, Time since start: {}\\n'.format(0,nb_citations,0))\n",
    "\n",
    "start_time = time.time()\n",
    "for i in range(nb_citations):\n",
    "    id_cit = idx[i]\n",
    "    line = table_sim[id_cit]\n",
    "    art_citant = line['Citant']\n",
    "    art_cite = line['Cite']\n",
    "    networks_citant = {}\n",
    "    if art_citant in dict_cluster_art and art_cite in dict_cluster_art:\n",
    "        authors_citant = dict_cluster_art[art_citant] #convert to set in parallel\n",
    "        authors_cite = dict_cluster_art[art_cite] #convert to set in parallel\n",
    "        year_citant = articles[art_citant] \n",
    "        for aut_citant in authors_citant:\n",
    "            if aut_citant in authors_network:\n",
    "                networks_citant[aut_citant] = authors_network[aut_citant]\n",
    "                    \n",
    "        args_child = [art_citant,art_cite,networks_citant,authors_citant,authors_cite,\n",
    "                  year_citant,start_time,out_path,line['Sim'],nb_citations]\n",
    "        inqueue.put(args_child)\n",
    "    \n",
    "for i in range(num_processes):\n",
    "    # Send the sentinal to tell Simulation to end\n",
    "    inqueue.put(sentinel)\n",
    "    \n",
    "for p in jobs:\n",
    "    p.join()"
   ]
  },
  {
   "cell_type": "markdown",
   "metadata": {
    "collapsed": true
   },
   "source": [
    "for p in jobs:\n",
    "    p.join()"
   ]
  },
  {
   "cell_type": "code",
   "execution_count": 12,
   "metadata": {
    "collapsed": true
   },
   "outputs": [],
   "source": [
    "class SimStats(IsDescription):\n",
    "    Citant = UInt32Col()\n",
    "    Cite = UInt32Col()\n",
    "    Sim = Float16Col()\n",
    "    TypeCit = UInt8Col()\n",
    "    AutCitant = UInt32Col()"
   ]
  },
  {
   "cell_type": "code",
   "execution_count": 37,
   "metadata": {
    "scrolled": true
   },
   "outputs": [
    {
     "name": "stderr",
     "output_type": "stream",
     "text": [
      "/home/User1/anaconda3/lib/python3.6/site-packages/ipykernel_launcher.py:3: TqdmDeprecationWarning: This function will be removed in tqdm==5.0.0\n",
      "Please use `tqdm.notebook.tqdm` instead of `tqdm.tqdm_notebook`\n",
      "  This is separate from the ipykernel package so we can avoid doing imports until\n"
     ]
    },
    {
     "data": {
      "application/vnd.jupyter.widget-view+json": {
       "model_id": "c61ea9e7c24744c982a2b630b16bc62a",
       "version_major": 2,
       "version_minor": 0
      },
      "text/plain": [
       "A Jupyter Widget"
      ]
     },
     "metadata": {},
     "output_type": "display_data"
    },
    {
     "name": "stdout",
     "output_type": "stream",
     "text": [
      "\n"
     ]
    },
    {
     "name": "stderr",
     "output_type": "stream",
     "text": [
      "/home/User1/anaconda3/lib/python3.6/site-packages/tables/path.py:112: NaturalNameWarning: object name is not a valid Python identifier: 'Biomedical Research'; it does not match the pattern ``^[a-zA-Z_][a-zA-Z0-9_]*$``; you will not be able to use natural naming to access this object; using ``getattr()`` will still work, though\n",
      "  NaturalNameWarning)\n",
      "/home/User1/anaconda3/lib/python3.6/site-packages/tables/path.py:112: NaturalNameWarning: object name is not a valid Python identifier: 'Clinical Medicine'; it does not match the pattern ``^[a-zA-Z_][a-zA-Z0-9_]*$``; you will not be able to use natural naming to access this object; using ``getattr()`` will still work, though\n",
      "  NaturalNameWarning)\n",
      "/home/User1/anaconda3/lib/python3.6/site-packages/tables/path.py:112: NaturalNameWarning: object name is not a valid Python identifier: 'Earth and Space'; it does not match the pattern ``^[a-zA-Z_][a-zA-Z0-9_]*$``; you will not be able to use natural naming to access this object; using ``getattr()`` will still work, though\n",
      "  NaturalNameWarning)\n",
      "/home/User1/anaconda3/lib/python3.6/site-packages/tables/path.py:112: NaturalNameWarning: object name is not a valid Python identifier: 'Engineering and Technology'; it does not match the pattern ``^[a-zA-Z_][a-zA-Z0-9_]*$``; you will not be able to use natural naming to access this object; using ``getattr()`` will still work, though\n",
      "  NaturalNameWarning)\n",
      "/home/User1/anaconda3/lib/python3.6/site-packages/tables/path.py:112: NaturalNameWarning: object name is not a valid Python identifier: 'Professional Fields'; it does not match the pattern ``^[a-zA-Z_][a-zA-Z0-9_]*$``; you will not be able to use natural naming to access this object; using ``getattr()`` will still work, though\n",
      "  NaturalNameWarning)\n",
      "/home/User1/anaconda3/lib/python3.6/site-packages/tables/path.py:112: NaturalNameWarning: object name is not a valid Python identifier: 'Social Sciences'; it does not match the pattern ``^[a-zA-Z_][a-zA-Z0-9_]*$``; you will not be able to use natural naming to access this object; using ``getattr()`` will still work, though\n",
      "  NaturalNameWarning)\n"
     ]
    }
   ],
   "source": [
    "h5file_stats = open_file(path + 'sim_statistics.h5', mode=\"w\", title=\"sim_stats\")\n",
    "group = h5file_stats.create_group(\"/\", 'sim')\n",
    "for j in tqdm(range(len(list_disciplines))):\n",
    "    disc = list_disciplines[j]\n",
    "    h5file_stats.create_table(group, disc, SimStats)\n"
   ]
  },
  {
   "cell_type": "code",
   "execution_count": 36,
   "metadata": {
    "collapsed": true
   },
   "outputs": [],
   "source": [
    "h5file_stats.close()"
   ]
  },
  {
   "cell_type": "markdown",
   "metadata": {},
   "source": [
    "### Serial"
   ]
  },
  {
   "cell_type": "code",
   "execution_count": 38,
   "metadata": {},
   "outputs": [
    {
     "ename": "KeyboardInterrupt",
     "evalue": "",
     "output_type": "error",
     "traceback": [
      "\u001b[0;31m---------------------------------------------------------------------------\u001b[0m",
      "\u001b[0;31mKeyboardInterrupt\u001b[0m                         Traceback (most recent call last)",
      "\u001b[0;32m<ipython-input-38-04dc47397fa4>\u001b[0m in \u001b[0;36m<module>\u001b[0;34m()\u001b[0m\n\u001b[1;32m     22\u001b[0m                 \u001b[0;32mif\u001b[0m \u001b[0maut_citant\u001b[0m \u001b[0;32min\u001b[0m \u001b[0mauthors_network\u001b[0m\u001b[0;34m:\u001b[0m\u001b[0;34m\u001b[0m\u001b[0m\n\u001b[1;32m     23\u001b[0m                     \u001b[0mnetwork\u001b[0m \u001b[0;34m=\u001b[0m \u001b[0mauthors_network\u001b[0m\u001b[0;34m[\u001b[0m\u001b[0maut_citant\u001b[0m\u001b[0;34m]\u001b[0m\u001b[0;34m\u001b[0m\u001b[0m\n\u001b[0;32m---> 24\u001b[0;31m                     \u001b[0myear_network\u001b[0m \u001b[0;34m=\u001b[0m \u001b[0mset\u001b[0m\u001b[0;34m(\u001b[0m\u001b[0mnetwork\u001b[0m\u001b[0;34m[\u001b[0m\u001b[0;36m0\u001b[0m\u001b[0;34m,\u001b[0m\u001b[0mnp\u001b[0m\u001b[0;34m.\u001b[0m\u001b[0mwhere\u001b[0m\u001b[0;34m(\u001b[0m\u001b[0mnetwork\u001b[0m\u001b[0;34m[\u001b[0m\u001b[0;36m1\u001b[0m\u001b[0;34m,\u001b[0m\u001b[0;34m:\u001b[0m\u001b[0;34m]\u001b[0m\u001b[0;34m<=\u001b[0m\u001b[0myear_citant\u001b[0m\u001b[0;34m)\u001b[0m\u001b[0;34m[\u001b[0m\u001b[0;36m0\u001b[0m\u001b[0;34m]\u001b[0m\u001b[0;34m]\u001b[0m\u001b[0;34m)\u001b[0m\u001b[0;34m\u001b[0m\u001b[0m\n\u001b[0m\u001b[1;32m     25\u001b[0m                     \u001b[0mint_network\u001b[0m \u001b[0;34m=\u001b[0m \u001b[0myear_network\u001b[0m\u001b[0;34m.\u001b[0m\u001b[0mintersection\u001b[0m\u001b[0;34m(\u001b[0m\u001b[0mauthors_cite\u001b[0m\u001b[0;34m)\u001b[0m\u001b[0;34m\u001b[0m\u001b[0m\n\u001b[1;32m     26\u001b[0m                     \u001b[0;32mif\u001b[0m \u001b[0mlen\u001b[0m\u001b[0;34m(\u001b[0m\u001b[0mint_network\u001b[0m\u001b[0;34m)\u001b[0m \u001b[0;34m>\u001b[0m \u001b[0;36m0\u001b[0m\u001b[0;34m:\u001b[0m\u001b[0;34m\u001b[0m\u001b[0m\n",
      "\u001b[0;31mKeyboardInterrupt\u001b[0m: "
     ]
    }
   ],
   "source": [
    "-"
   ]
  },
  {
   "cell_type": "code",
   "execution_count": 34,
   "metadata": {
    "collapsed": true
   },
   "outputs": [],
   "source": [
    "def line_profiler():\n",
    "    f = open(path+'progress.txt','w')\n",
    "    start_time = time.time()\n",
    "    count = 0\n",
    "    for line in table_sim.iterrows(start=100000000,stop=100000200):\n",
    "    #for i in range(100000000,100000200):\n",
    "        #id_cit = idx[i]\n",
    "        #line = table_sim[id_cit]\n",
    "        art_citant = line['Citant']\n",
    "        art_cite = line['Cite']\n",
    "        if art_citant in dict_cluster_art and art_cite in dict_cluster_art:\n",
    "            authors_citant = set(dict_cluster_art[art_citant])\n",
    "            authors_cite = set(dict_cluster_art[art_cite])\n",
    "            year_citant = articles[art_citant]\n",
    "            for aut_citant in authors_citant:\n",
    "                #info = authors_info[aut_citant]\n",
    "                #disc = info[0]\n",
    "                if aut_citant in authors_cite:\n",
    "                    type_cit = 0\n",
    "                else:\n",
    "                    if aut_citant in authors_network:\n",
    "                        network = authors_network[aut_citant]\n",
    "                        year_network = set(network[0,np.where(network[1,:]<=year_citant)[0]])\n",
    "                        int_network = year_network.intersection(authors_cite)\n",
    "                        if len(int_network) > 0:\n",
    "                            type_cit = 1\n",
    "                        else:\n",
    "                            type_cit = 2\n",
    "                    else:\n",
    "                        type_cit = 2\n",
    "                table_stats = h5file_stats.get_node('/sim/{}'.format(disc))\n",
    "                row = table_stats.row\n",
    "                row['Citant'] = art_citant\n",
    "                row['Cite'] = art_cite\n",
    "                row['Sim'] = line['Sim']\n",
    "                row['TypeCit'] = type_cit\n",
    "                row['AutCitant'] = aut_citant\n",
    "                row.append()\n",
    "                table_stats.flush()\n",
    "        if count % 20000 == 1 :\n",
    "            elapsed_time = time.time() - start_time\n",
    "            elapsed_time_h = np.round(elapsed_time/3600,2)\n",
    "            time_per_art = elapsed_time/count\n",
    "            time_left_h = np.round(time_per_art*(total_iterations-count)/3600,2)\n",
    "            perc = np.round(count/total_iterations*100,3)\n",
    "            f.write('Progress: {} articles, {}%, Time since start: {}, Time left: {}\\n'.format(count,perc,elapsed_time_h,time_left_h))    \n",
    "            f.flush()\n",
    "        count += 1"
   ]
  },
  {
   "cell_type": "code",
   "execution_count": 17,
   "metadata": {
    "collapsed": true
   },
   "outputs": [],
   "source": [
    "%load_ext line_profiler"
   ]
  },
  {
   "cell_type": "code",
   "execution_count": 35,
   "metadata": {
    "collapsed": true
   },
   "outputs": [],
   "source": [
    "%lprun -f line_profiler line_profiler()"
   ]
  },
  {
   "cell_type": "markdown",
   "metadata": {},
   "source": [
    "### Parallel"
   ]
  },
  {
   "cell_type": "markdown",
   "metadata": {},
   "source": [
    "### Global"
   ]
  },
  {
   "cell_type": "code",
   "execution_count": null,
   "metadata": {
    "collapsed": true
   },
   "outputs": [],
   "source": [
    "def get_type(inqueue, id_out):\n",
    "    for id_cit in iter(inqueue.get,sentinel):\n",
    "        line = table_sim[id_cit]\n",
    "        art_citant = line['Citant']\n",
    "        art_cite = line['Cite']\n",
    "        if art_citant in dict_cluster_art and art_cite in dict_cluster_art:\n",
    "            authors_citant = set(dict_cluster_art[art_citant])\n",
    "            authors_cite = set(dict_cluster_art[art_cite])\n",
    "            year_citant = articles[art_citant]\n",
    "            for aut_citant in authors_citant:\n",
    "                info = authors_info[aut_citant]\n",
    "                disc = info[0]\n",
    "                if aut_citant in authors_cite:\n",
    "                    type_cit = 0\n",
    "                else:\n",
    "                    if aut_citant in authors_network:\n",
    "                        network = authors_network[aut_citant]\n",
    "                        year_network = set(network[0,np.where(network[1,:]<=year_citant)[0]])\n",
    "                        int_network = year_network.intersection(authors_cite)\n",
    "                        if len(int_network) > 0:\n",
    "                            type_cit = 1\n",
    "                        else:\n",
    "                            type_cit = 2\n",
    "                    else:\n",
    "                        type_cit = 2\n",
    "        with open('{}output_{}.txt'.format(out_path,id_out),'a') as f:\n",
    "            #Citant,Cite,Sim,Typecit,AutCitant\n",
    "            f.write('{},{},{},{},{}\\n'.format(art_citant,art_cite,line['Sim'],type_cit,aut_citant))\n",
    "\n",
    "\n",
    "        elapsed_time = time.time() - start_time\n",
    "        elapsed_time_h = np.round(elapsed_time/3600,2)\n",
    "        while True:\n",
    "            try:\n",
    "                with open('{}/progress.txt'.format(out_path), \"r+\") as f:\n",
    "                    d = f.readlines()\n",
    "                    line = d[0]\n",
    "                    count = int(line.split('/')[0]) + 1\n",
    "                    f.seek(0)\n",
    "                    fp.write('{}/{} lines, Time since start: {}\\n'.format(count,nb_citations,elapsed_time_h))\n",
    "                    f.truncate()\n",
    "                    break\n",
    "            except IOError:\n",
    "                time.sleep(0.01)\n",
    "    \n",
    "    \n",
    "    "
   ]
  },
  {
   "cell_type": "code",
   "execution_count": null,
   "metadata": {
    "collapsed": true
   },
   "outputs": [],
   "source": [
    "import shutil\n",
    "import os"
   ]
  },
  {
   "cell_type": "code",
   "execution_count": null,
   "metadata": {
    "collapsed": true
   },
   "outputs": [],
   "source": [
    "out_path = \"/mnt/disks/sdc/data/type_cit/\""
   ]
  },
  {
   "cell_type": "code",
   "execution_count": null,
   "metadata": {
    "collapsed": true
   },
   "outputs": [],
   "source": [
    "shutil.rmtree(out_path)"
   ]
  },
  {
   "cell_type": "code",
   "execution_count": null,
   "metadata": {
    "collapsed": true
   },
   "outputs": [],
   "source": [
    "if not os.path.exists(out_path):\n",
    "    os.makedirs(out_path)\n",
    "start_time = time.time()\n",
    "with open('{}/progress.txt'.format(out_path),'w') as f:\n",
    "    f.write('{}/{} lines, Time since start: {}\\n'.format(0,nb_citations,0))\n",
    "\n",
    "num_processes = 2#mp.cpu_count()-1\n",
    "sentinel = None\n",
    "inqueue = mp.Queue()\n",
    "jobs = []\n",
    "\n",
    "for i in range(num_processes):\n",
    "    p = mp.Process(target=get_type, args=(inqueue,i))\n",
    "    jobs.append(p)\n",
    "    p.start()\n",
    "for i in range(nb_citations):\n",
    "    inqueue.put(idx[i])  \n",
    "for i in range(num_processes):\n",
    "    # Send the sentinal to tell Simulation to end\n",
    "    inqueue.put(sentinel)\n",
    "for p in jobs:\n",
    "    p.join()\n"
   ]
  },
  {
   "cell_type": "markdown",
   "metadata": {},
   "source": [
    "### Limited scope"
   ]
  },
  {
   "cell_type": "code",
   "execution_count": null,
   "metadata": {
    "collapsed": true
   },
   "outputs": [],
   "source": [
    "def get_type(inqueue):\n",
    "    try:\n",
    "        for args_child in iter(inqueue.get): \n",
    "            art_citant = args_child[0]\n",
    "            art_cite = args_child[1]\n",
    "            networks_citant = args_child[2]\n",
    "            authors_citant = set(args_child[3])\n",
    "            authors_cite = set(args_child[4])\n",
    "            year_citant = args_child[5]\n",
    "            start_time = args_child[6]\n",
    "            out_path = args_child[7]\n",
    "            sim = args_child[8]\n",
    "            nb_citations = args_child[9]\n",
    "\n",
    "            for aut_citant in authors_citant:\n",
    "                if aut_citant in authors_cite:\n",
    "                    type_cit = 0\n",
    "                else:\n",
    "                    if aut_citant in networks_citant:\n",
    "                        network = networks_citant[aut_citant]\n",
    "                        year_network = set(network[0,np.where(network[1,:]<=year_citant)[0]])\n",
    "                        int_network = year_network.intersection(authors_cite)\n",
    "                        if len(int_network) > 0:\n",
    "                            type_cit = 1\n",
    "                        else:\n",
    "                            type_cit = 2\n",
    "                    else:\n",
    "                        type_cit = 2\n",
    "\n",
    "                while True:\n",
    "                    id_out = 0\n",
    "                    try:\n",
    "                        with open('{}output_{}.txt'.format(out_path,id_out),'a') as f:\n",
    "                            #Citant,Cite,Sim,Typecit,AutCitant\n",
    "                            f.write('{},{},{},{},{}\\n'.format(art_citant,art_cite,sim,type_cit,aut_citant))\n",
    "                        break\n",
    "                    except IOError:\n",
    "                        id_out += 1\n",
    "\n",
    "            elapsed_time = time.time() - start_time\n",
    "            elapsed_time_h = np.round(elapsed_time/3600,2)\n",
    "            while True:\n",
    "                try:\n",
    "                    with open('{}/progress.txt'.format(out_path), \"r+\") as f:\n",
    "                        d = f.readlines()\n",
    "                        line = d[0]\n",
    "                        count = int(line.split('/')[0]) + 1\n",
    "                        f.seek(0)\n",
    "                        f.write('{}/{} lines, Time since start: {}\\n'.format(count,nb_citations,elapsed_time_h))\n",
    "                        f.truncate()\n",
    "                        break\n",
    "                except IOError:\n",
    "                    time.sleep(0.01)\n",
    "    except Exception as e:\n",
    "         with open('{}error.txt'.format(out_path),'w') as f:\n",
    "                #Citant,Cite,Sim,Typecit,AutCitant\n",
    "                f.write(str(e))\n"
   ]
  },
  {
   "cell_type": "code",
   "execution_count": null,
   "metadata": {
    "collapsed": true
   },
   "outputs": [],
   "source": [
    "import shutil\n",
    "import os"
   ]
  },
  {
   "cell_type": "code",
   "execution_count": null,
   "metadata": {
    "collapsed": true
   },
   "outputs": [],
   "source": [
    "out_path = \"/mnt/disks/sdc/data/type_cit/\""
   ]
  },
  {
   "cell_type": "code",
   "execution_count": null,
   "metadata": {
    "collapsed": true
   },
   "outputs": [],
   "source": [
    "shutil.rmtree(out_path)"
   ]
  },
  {
   "cell_type": "code",
   "execution_count": null,
   "metadata": {
    "collapsed": true
   },
   "outputs": [],
   "source": [
    "import multiprocessing as mp\n",
    "mp.set_start_method(\"spawn\")"
   ]
  },
  {
   "cell_type": "code",
   "execution_count": null,
   "metadata": {
    "collapsed": true
   },
   "outputs": [],
   "source": [
    "if not os.path.exists(out_path):\n",
    "    os.makedirs(out_path)\n",
    "\n",
    "with open('{}/progress.txt'.format(out_path),'w') as f:\n",
    "    f.write('{}/{} lines, Time since start: {}\\n'.format(0,nb_citations,0))\n",
    "\n",
    "#ctx = mp.get_context(\"spawn\") # Use process spawning instead of fork\n",
    "#P = ctx.Pool()\n",
    "\n",
    "#P= mp.Pool()\n",
    "\n",
    "num_processes = mp.cpu_count()-1\n",
    "sentinel = None\n",
    "inqueue = mp.Queue()\n",
    "jobs = []\n",
    "\n",
    "for i in range(num_processes):\n",
    "    p = mp.Process(target=get_type, args=(inqueue,))\n",
    "    jobs.append(p)\n",
    "    p.start()\n",
    "    \n",
    "start_time = time.time()\n",
    "for i in range(nb_citations):\n",
    "    id_cit = idx[i]\n",
    "    line = table_sim[id_cit]\n",
    "    art_citant = line['Citant']\n",
    "    art_cite = line['Cite']\n",
    "    networks_citant = {}\n",
    "    if art_citant in dict_cluster_art and art_cite in dict_cluster_art:\n",
    "        authors_citant = dict_cluster_art[art_citant] #convert to set in parallel\n",
    "        authors_cite = dict_cluster_art[art_cite] #convert to set in parallel\n",
    "        year_citant = articles[art_citant] \n",
    "#         for aut_citant in authors_citant:\n",
    "#             if aut_citant in authors_network:\n",
    "#                     networks_citant = authors_network[aut_citant]\n",
    "                    \n",
    "        args_child = [art_citant,art_cite,networks_citant,authors_citant,authors_cite,\n",
    "                  year_citant,start_time,out_path,line['Sim'],nb_citations]\n",
    "        inqueue.put(args_child)\n",
    "    \n",
    "# for i in range(num_processes):\n",
    "#     # Send the sentinal to tell Simulation to end\n",
    "#     inqueue.put(sentinel)\n",
    "    \n",
    "for p in jobs:\n",
    "    p.join()"
   ]
  },
  {
   "cell_type": "code",
   "execution_count": null,
   "metadata": {
    "collapsed": true
   },
   "outputs": [],
   "source": [
    "for p in jobs:\n",
    "    p.terminate()"
   ]
  },
  {
   "cell_type": "code",
   "execution_count": null,
   "metadata": {
    "collapsed": true
   },
   "outputs": [],
   "source": [
    "inqueue.qsize()"
   ]
  },
  {
   "cell_type": "code",
   "execution_count": null,
   "metadata": {
    "collapsed": true
   },
   "outputs": [],
   "source": [
    "for i in range(num_processes):\n",
    "    p = mp.Process(target=get_type, args=(inqueue,i,))\n",
    "    jobs.append(p)\n",
    "    p.start()"
   ]
  },
  {
   "cell_type": "code",
   "execution_count": null,
   "metadata": {
    "collapsed": true
   },
   "outputs": [],
   "source": []
  },
  {
   "cell_type": "markdown",
   "metadata": {},
   "source": [
    "### With parallelpython"
   ]
  },
  {
   "cell_type": "code",
   "execution_count": null,
   "metadata": {
    "collapsed": true
   },
   "outputs": [],
   "source": [
    "def get_type(args_child):\n",
    "    try:\n",
    "        art_citant = args_child[0]\n",
    "        art_cite = args_child[1]\n",
    "        networks_citant = args_child[2]\n",
    "        authors_citant = set(args_child[3])\n",
    "        authors_cite = set(args_child[4])\n",
    "        year_citant = args_child[5]\n",
    "        start_time = args_child[6]\n",
    "        out_path = args_child[7]\n",
    "        sim = args_child[8]\n",
    "        nb_citations = args_child[9]\n",
    "\n",
    "        for aut_citant in authors_citant:\n",
    "            if aut_citant in authors_cite:\n",
    "                type_cit = 0\n",
    "            else:\n",
    "                if aut_citant in networks_citant:\n",
    "                    network = networks_citant[aut_citant]\n",
    "                    year_network = set(network[0,np.where(network[1,:]<=year_citant)[0]])\n",
    "                    int_network = year_network.intersection(authors_cite)\n",
    "                    if len(int_network) > 0:\n",
    "                        type_cit = 1\n",
    "                    else:\n",
    "                        type_cit = 2\n",
    "                else:\n",
    "                    type_cit = 2\n",
    "\n",
    "            while True:\n",
    "                id_out = 0\n",
    "                try:\n",
    "                    with open('{}output_{}.txt'.format(out_path,id_out),'a') as f:\n",
    "                        #Citant,Cite,Sim,Typecit,AutCitant\n",
    "                        f.write('{},{},{},{},{}\\n'.format(art_citant,art_cite,sim,type_cit,aut_citant))\n",
    "                    break\n",
    "                except IOError:\n",
    "                    id_out += 1\n",
    "\n",
    "        elapsed_time = time.time() - start_time\n",
    "        elapsed_time_h = np.round(elapsed_time/3600,2)\n",
    "        while True:\n",
    "            try:\n",
    "                with open('{}/progress.txt'.format(out_path), \"r+\") as f:\n",
    "                    d = f.readlines()\n",
    "                    line = d[0]\n",
    "                    count = int(line.split('/')[0]) + 1\n",
    "                    f.seek(0)\n",
    "                    f.write('{}/{} lines, Time since start: {}\\n'.format(count,nb_citations,elapsed_time_h))\n",
    "                    f.truncate()\n",
    "                    break\n",
    "            except IOError:\n",
    "                time.sleep(0.01)\n",
    "    except Exception as e:\n",
    "         with open('{}error.txt'.format(out_path),'w') as f:\n",
    "                #Citant,Cite,Sim,Typecit,AutCitant\n",
    "                f.write(str(e))\n"
   ]
  },
  {
   "cell_type": "code",
   "execution_count": null,
   "metadata": {
    "collapsed": true
   },
   "outputs": [],
   "source": [
    "import shutil\n",
    "import os\n",
    "out_path = \"/mnt/disks/sdc/data/type_cit/\""
   ]
  },
  {
   "cell_type": "code",
   "execution_count": null,
   "metadata": {
    "collapsed": true
   },
   "outputs": [],
   "source": [
    "shutil.rmtree(out_path)"
   ]
  },
  {
   "cell_type": "code",
   "execution_count": null,
   "metadata": {
    "collapsed": true,
    "scrolled": true
   },
   "outputs": [],
   "source": [
    "if not os.path.exists(out_path):\n",
    "    os.makedirs(out_path)\n",
    "start_time = time.time()\n",
    "with open('{}/progress.txt'.format(out_path),'w') as f:\n",
    "    f.write('{}/{} lines, Time since start: {}\\n'.format(0,nb_citations,0))\n",
    "\n",
    "ppservers = ()\n",
    "job_server = pp.Server(ppservers=ppservers)\n",
    "\n",
    "    \n",
    "for i in range(nb_citations):\n",
    "    id_cit = idx[i]\n",
    "    line = table_sim[id_cit]\n",
    "    art_citant = line['Citant']\n",
    "    art_cite = line['Cite']\n",
    "    networks_citant = {}\n",
    "    if art_citant in dict_cluster_art and art_cite in dict_cluster_art:\n",
    "        authors_citant = dict_cluster_art[art_citant] #convert to set in parallel\n",
    "        authors_cite = dict_cluster_art[art_cite] #convert to set in parallel\n",
    "        year_citant = articles[art_citant] \n",
    "#         for aut_citant in authors_citant:\n",
    "#             if aut_citant in authors_network:\n",
    "#                     networks_citant = authors_network[aut_citant]\n",
    "                    \n",
    "        args_child = [art_citant,art_cite,networks_citant,authors_citant,authors_cite,\n",
    "                      year_citant,start_time,out_path,line['Sim'],nb_citations]\n",
    "        #Args: parallel function, args, functions to import (witout quotes), modules to import\n",
    "        job_server.submit(get_type, (args_child,), (), (\"time\",\"numpy as np\",))"
   ]
  },
  {
   "cell_type": "code",
   "execution_count": null,
   "metadata": {
    "collapsed": true
   },
   "outputs": [],
   "source": [
    "with open('{}/progress.txt'.format(out_path), \"r+\") as f:\n",
    "    d = f.readlines()\n",
    "    line = d[0]\n",
    "    count = int(line.split('/')[0]) + 1\n",
    "    f.seek(0)\n",
    "    f.write('{}/{} lines, Time since start: {}\\n'.format(count,nb_citations,0))\n",
    "    f.truncate()"
   ]
  }
 ],
 "metadata": {
  "kernelspec": {
   "display_name": "Python 3",
   "language": "python",
   "name": "python3"
  },
  "language_info": {
   "codemirror_mode": {
    "name": "ipython",
    "version": 3
   },
   "file_extension": ".py",
   "mimetype": "text/x-python",
   "name": "python",
   "nbconvert_exporter": "python",
   "pygments_lexer": "ipython3",
   "version": "3.6.3"
  }
 },
 "nbformat": 4,
 "nbformat_minor": 2
}
