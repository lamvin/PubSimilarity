{
 "cells": [
  {
   "cell_type": "code",
   "execution_count": 25,
   "metadata": {
    "collapsed": true
   },
   "outputs": [],
   "source": [
    "import pickle\n",
    "import numpy as np\n",
    "import pandas as pd\n",
    "import csv\n",
    "from tqdm import tqdm_notebook as tqdm"
   ]
  },
  {
   "cell_type": "code",
   "execution_count": 29,
   "metadata": {
    "collapsed": true
   },
   "outputs": [],
   "source": [
    "path = \"/mnt/disks/sdc/data/\"\n",
    "out_path =  \"/mnt/disks/sdc/data_journals/sim/\""
   ]
  },
  {
   "cell_type": "code",
   "execution_count": 14,
   "metadata": {
    "collapsed": true
   },
   "outputs": [],
   "source": [
    "disciplines = pd.read_csv(path+'liste_discipline.txt',encoding='latin_1',sep='\\t')\n",
    "list_disciplines = pd.unique(disciplines['EDiscipline'])"
   ]
  },
  {
   "cell_type": "code",
   "execution_count": 17,
   "metadata": {
    "collapsed": true
   },
   "outputs": [],
   "source": [
    "code_disc_dict = {}\n",
    "for i,row in disciplines.iterrows():\n",
    "    code_disc_dict[row[\"Code_Discipline\"]] = row[\"EDiscipline\"]"
   ]
  },
  {
   "cell_type": "code",
   "execution_count": 19,
   "metadata": {
    "collapsed": true
   },
   "outputs": [],
   "source": [
    "journal_disc_dict = {}\n",
    "with open(path+'Liste_Revue.txt','r') as f:\n",
    "    lines = f.readlines()\n",
    "    for line in lines[1:]:\n",
    "        ID = int(line[0])\n",
    "        journal_disc_dict[ID] = code_disc_dict[ID]"
   ]
  },
  {
   "cell_type": "code",
   "execution_count": 23,
   "metadata": {
    "collapsed": true
   },
   "outputs": [],
   "source": [
    "articles = {}\n",
    "with open(path+'article.txt','r') as f:\n",
    "    reader = csv.reader(f,delimiter='\\t')\n",
    "    next(reader)\n",
    "    for line in reader:\n",
    "        #year,journal\n",
    "        articles[int(line[0])] = [int(line[2]),int(line[3])]"
   ]
  },
  {
   "cell_type": "code",
   "execution_count": 37,
   "metadata": {},
   "outputs": [
    {
     "name": "stderr",
     "output_type": "stream",
     "text": [
      "/home/User1/anaconda3/lib/python3.6/site-packages/ipykernel_launcher.py:3: TqdmDeprecationWarning: This function will be removed in tqdm==5.0.0\n",
      "Please use `tqdm.notebook.tqdm` instead of `tqdm.tqdm_notebook`\n",
      "  This is separate from the ipykernel package so we can avoid doing imports until\n"
     ]
    },
    {
     "data": {
      "application/vnd.jupyter.widget-view+json": {
       "model_id": "eeb6aa11fc414177860d115a38583ccd",
       "version_major": 2,
       "version_minor": 0
      },
      "text/plain": [
       "A Jupyter Widget"
      ]
     },
     "metadata": {},
     "output_type": "display_data"
    },
    {
     "name": "stdout",
     "output_type": "stream",
     "text": [
      "\n"
     ]
    }
   ],
   "source": [
    "nb_files = 7\n",
    "art_sim = {}\n",
    "for i in tqdm(range(nb_files)):\n",
    "        with open(out_path+\"output_{}.txt\".format(i),'r') as f:\n",
    "            reader = csv.reader(f,delimiter=',')\n",
    "            for line in reader:\n",
    "                art1 = int(line[0])\n",
    "                art2 = int(line[1])\n",
    "                sim = float(line[2])\n",
    "                if art1 in art_sim:\n",
    "                    art_sim[art1][0] += sim\n",
    "                    art_sim[art1][1] += 1\n",
    "                else:\n",
    "                    art_sim[art1] = [sim,1]\n",
    "                if art2 in art_sim:\n",
    "                    art_sim[art2][0] += sim\n",
    "                    art_sim[art2][1] += 1\n",
    "                else:\n",
    "                    art_sim[art2] = [sim,1]\n",
    "                "
   ]
  },
  {
   "cell_type": "code",
   "execution_count": 38,
   "metadata": {},
   "outputs": [
    {
     "name": "stderr",
     "output_type": "stream",
     "text": [
      "/home/User1/anaconda3/lib/python3.6/site-packages/ipykernel_launcher.py:4: TqdmDeprecationWarning: This function will be removed in tqdm==5.0.0\n",
      "Please use `tqdm.notebook.tqdm` instead of `tqdm.tqdm_notebook`\n",
      "  after removing the cwd from sys.path.\n"
     ]
    },
    {
     "data": {
      "application/vnd.jupyter.widget-view+json": {
       "model_id": "e31ddb14530f477a97306259d94958cb",
       "version_major": 2,
       "version_minor": 0
      },
      "text/plain": [
       "A Jupyter Widget"
      ]
     },
     "metadata": {},
     "output_type": "display_data"
    },
    {
     "name": "stdout",
     "output_type": "stream",
     "text": [
      "\n"
     ]
    }
   ],
   "source": [
    "art_sim_avg = {}\n",
    "art_list = list(art_sim.keys())\n",
    "nb_arts = len(art_list)\n",
    "for i in tqdm(range(nb_arts)):\n",
    "    art = art_list[i]\n",
    "    line = art_sim[art]\n",
    "    art_sim_avg[art] = line[0]/line[1]\n",
    "    "
   ]
  },
  {
   "cell_type": "code",
   "execution_count": 39,
   "metadata": {
    "collapsed": true
   },
   "outputs": [],
   "source": [
    "with open(out_path+'../sum_sim_journal_year.p','wb') as f:\n",
    "    pickle.dump(art_sim,f)"
   ]
  },
  {
   "cell_type": "code",
   "execution_count": 40,
   "metadata": {
    "collapsed": true
   },
   "outputs": [],
   "source": [
    "with open(out_path+'../avg_sim_journal_year.p','wb') as f:\n",
    "    pickle.dump(art_sim_avg,f)"
   ]
  },
  {
   "cell_type": "code",
   "execution_count": null,
   "metadata": {
    "collapsed": true
   },
   "outputs": [],
   "source": []
  }
 ],
 "metadata": {
  "kernelspec": {
   "display_name": "Python 3",
   "language": "python",
   "name": "python3"
  },
  "language_info": {
   "codemirror_mode": {
    "name": "ipython",
    "version": 3
   },
   "file_extension": ".py",
   "mimetype": "text/x-python",
   "name": "python",
   "nbconvert_exporter": "python",
   "pygments_lexer": "ipython3",
   "version": "3.6.3"
  }
 },
 "nbformat": 4,
 "nbformat_minor": 2
}
