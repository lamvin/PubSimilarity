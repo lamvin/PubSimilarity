{
 "cells": [
  {
   "cell_type": "code",
   "execution_count": 1,
   "metadata": {
    "collapsed": true
   },
   "outputs": [],
   "source": [
    "import pandas as pd\n",
    "from tables import *\n",
    "import csv\n",
    "import numpy as np\n",
    "import pickle\n",
    "import time\n",
    "from scipy import sparse\n",
    "from tqdm import tqdm_notebook as tqdm"
   ]
  },
  {
   "cell_type": "code",
   "execution_count": 2,
   "metadata": {
    "collapsed": true
   },
   "outputs": [],
   "source": [
    "path = \"/mnt/disks/sdc/data/\"\n",
    "out_path = \"/mnt/disks/sdc/data_journals/\""
   ]
  },
  {
   "cell_type": "code",
   "execution_count": 3,
   "metadata": {},
   "outputs": [
    {
     "name": "stderr",
     "output_type": "stream",
     "text": [
      "/home/User1/anaconda3/lib/python3.6/site-packages/IPython/core/interactiveshell.py:2698: DtypeWarning: Columns (1) have mixed types. Specify dtype option on import or set low_memory=False.\n",
      "  interactivity=interactivity, compiler=compiler, result=result)\n"
     ]
    }
   ],
   "source": [
    "articles = pd.read_csv(path+'article.txt',sep='\\t')"
   ]
  },
  {
   "cell_type": "code",
   "execution_count": 6,
   "metadata": {},
   "outputs": [
    {
     "data": {
      "text/html": [
       "<div>\n",
       "<style>\n",
       "    .dataframe thead tr:only-child th {\n",
       "        text-align: right;\n",
       "    }\n",
       "\n",
       "    .dataframe thead th {\n",
       "        text-align: left;\n",
       "    }\n",
       "\n",
       "    .dataframe tbody tr th {\n",
       "        vertical-align: top;\n",
       "    }\n",
       "</style>\n",
       "<table border=\"1\" class=\"dataframe\">\n",
       "  <thead>\n",
       "    <tr style=\"text-align: right;\">\n",
       "      <th></th>\n",
       "      <th>ID_Art</th>\n",
       "      <th>ItemID</th>\n",
       "      <th>Annee_Bibliographique</th>\n",
       "      <th>Code_Revue</th>\n",
       "      <th>Nb_Reference</th>\n",
       "      <th>Nb_Auteur</th>\n",
       "    </tr>\n",
       "  </thead>\n",
       "  <tbody>\n",
       "    <tr>\n",
       "      <th>0</th>\n",
       "      <td>1351047</td>\n",
       "      <td>A1981LA23400028</td>\n",
       "      <td>1981</td>\n",
       "      <td>3868</td>\n",
       "      <td>0</td>\n",
       "      <td>1</td>\n",
       "    </tr>\n",
       "    <tr>\n",
       "      <th>1</th>\n",
       "      <td>1351048</td>\n",
       "      <td>A1981LA23400029</td>\n",
       "      <td>1981</td>\n",
       "      <td>3868</td>\n",
       "      <td>0</td>\n",
       "      <td>1</td>\n",
       "    </tr>\n",
       "    <tr>\n",
       "      <th>2</th>\n",
       "      <td>1351049</td>\n",
       "      <td>A1981LA23400031</td>\n",
       "      <td>1981</td>\n",
       "      <td>3868</td>\n",
       "      <td>0</td>\n",
       "      <td>1</td>\n",
       "    </tr>\n",
       "    <tr>\n",
       "      <th>3</th>\n",
       "      <td>1351050</td>\n",
       "      <td>A1981LA23400032</td>\n",
       "      <td>1981</td>\n",
       "      <td>3868</td>\n",
       "      <td>0</td>\n",
       "      <td>1</td>\n",
       "    </tr>\n",
       "    <tr>\n",
       "      <th>4</th>\n",
       "      <td>1351051</td>\n",
       "      <td>A1981LA23400036</td>\n",
       "      <td>1981</td>\n",
       "      <td>3868</td>\n",
       "      <td>0</td>\n",
       "      <td>1</td>\n",
       "    </tr>\n",
       "  </tbody>\n",
       "</table>\n",
       "</div>"
      ],
      "text/plain": [
       "    ID_Art           ItemID  Annee_Bibliographique  Code_Revue  Nb_Reference  \\\n",
       "0  1351047  A1981LA23400028                   1981        3868             0   \n",
       "1  1351048  A1981LA23400029                   1981        3868             0   \n",
       "2  1351049  A1981LA23400031                   1981        3868             0   \n",
       "3  1351050  A1981LA23400032                   1981        3868             0   \n",
       "4  1351051  A1981LA23400036                   1981        3868             0   \n",
       "\n",
       "   Nb_Auteur  \n",
       "0          1  \n",
       "1          1  \n",
       "2          1  \n",
       "3          1  \n",
       "4          1  "
      ]
     },
     "execution_count": 6,
     "metadata": {},
     "output_type": "execute_result"
    }
   ],
   "source": [
    "articles.head()"
   ]
  },
  {
   "cell_type": "code",
   "execution_count": 8,
   "metadata": {},
   "outputs": [],
   "source": [
    "articles = articles[[\"ID_Art\",\"Code_Revue\",\"Annee_Bibliographique\"]]\n",
    "journals = pd.unique(articles['Code_Revue'])"
   ]
  },
  {
   "cell_type": "code",
   "execution_count": 9,
   "metadata": {},
   "outputs": [
    {
     "name": "stdout",
     "output_type": "stream",
     "text": [
      "21305\n",
      "(63327731, 3)\n"
     ]
    }
   ],
   "source": [
    "nb_journals = len(journals)\n",
    "print(nb_journals)\n",
    "print(articles.shape)"
   ]
  },
  {
   "cell_type": "code",
   "execution_count": null,
   "metadata": {},
   "outputs": [],
   "source": [
    "dict_journals = {}\n",
    "for journal in journals:\n",
    "    arts_journal = articles.loc[articles['Code_Revue']==journal,]\n",
    "    years = pd.unique(articles[\"Annee_Bibliographique\"])\n",
    "    for year in years:\n",
    "        dict_journals[(journal,year)] = np.array(arts_journal.loc[arts_journal['Annee_Bibliographique']==year,\"ID_Art\"])"
   ]
  },
  {
   "cell_type": "code",
   "execution_count": null,
   "metadata": {
    "collapsed": true
   },
   "outputs": [],
   "source": [
    "del articles"
   ]
  },
  {
   "cell_type": "code",
   "execution_count": 13,
   "metadata": {
    "collapsed": true
   },
   "outputs": [],
   "source": [
    "with open(out_path+'dict_journals_year.p','wb') as f:\n",
    "    pickle.dump(dict_journals,f)"
   ]
  }
 ],
 "metadata": {
  "kernelspec": {
   "display_name": "Python 3",
   "language": "python",
   "name": "python3"
  },
  "language_info": {
   "codemirror_mode": {
    "name": "ipython",
    "version": 3
   },
   "file_extension": ".py",
   "mimetype": "text/x-python",
   "name": "python",
   "nbconvert_exporter": "python",
   "pygments_lexer": "ipython3",
   "version": "3.6.3"
  }
 },
 "nbformat": 4,
 "nbformat_minor": 2
}
